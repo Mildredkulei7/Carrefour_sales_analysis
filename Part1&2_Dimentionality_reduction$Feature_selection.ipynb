{
  "nbformat": 4,
  "nbformat_minor": 0,
  "metadata": {
    "colab": {
      "name": "Part1&2_Dimentionality_reduction$Feature_selection.ipynb",
      "provenance": [],
      "collapsed_sections": [],
      "authorship_tag": "ABX9TyMXSBh7GaHSBiBTX2QB9jxr",
      "include_colab_link": true
    },
    "kernelspec": {
      "name": "python3",
      "display_name": "Python 3"
    },
    "language_info": {
      "name": "python"
    }
  },
  "cells": [
    {
      "cell_type": "markdown",
      "metadata": {
        "id": "view-in-github",
        "colab_type": "text"
      },
      "source": [
        "<a href=\"https://colab.research.google.com/github/Mildredkulei7/Carrefour_sales_analysis/blob/main/Part1%262_Dimentionality_reduction%24Feature_selection.ipynb\" target=\"_parent\"><img src=\"https://colab.research.google.com/assets/colab-badge.svg\" alt=\"Open In Colab\"/></a>"
      ]
    },
    {
      "cell_type": "markdown",
      "metadata": {
        "id": "RPaq0w3nH_DD"
      },
      "source": [
        "# 1. Problem Definition\n",
        "## 1.1 Specifying the Question\n",
        "### what is the most relevant marketing strategies that will result in the highest no. of sales (total price including tax) in carrefour Kenya.\n",
        "\n",
        "## 1.2 Metric for success\n",
        "### Come up with an analysis that will make our client identify the relevant marketing strategies to increase the company's sales.\n",
        "\n",
        "## 1.3 Understanding the Context\n",
        "### Carrefour was launched in kenya in 1999 and today it operates five hypermarkets and five supermarkets, employing over 1800 colleagues.\n",
        "\n",
        "###Carrefour operates different store formats, to meet the growing needs of its diversified customer base. In line with the brand’s commitment to provide the widest range of quality products and value for money, Carrefour offers an unrivalled choice of more than 30,000 food and non-food products, and an exemplary customer experience to create great moments for everyone every day. In respect to this, the marketing team wants to be informed on the most relevant marketing strategies that will result in the highest no. of sales (total price including tax). \n",
        "\n",
        "\n",
        "\n",
        "## 1.4 Experimental Design taken\n",
        "1. Problem Definition\n",
        "2. Data Sourcing\n",
        "3. Check the Data\n",
        "4. Perform Data Cleaning\n",
        "5. Perform Exploratory Data Analysis  \n",
        "6. Implement the Solution\n",
        "7. Recommendation\n",
        "\n",
        "## 1.5 Data relevance \n",
        "### The data collected is relevant as it is was provided by the client from the company's database. \n"
      ]
    },
    {
      "cell_type": "markdown",
      "metadata": {
        "id": "BkKI0N_3IDBk"
      },
      "source": [
        "# 2. Data Sourcing\n",
        "## Loading the data\n",
        "## Loading the necessary packages"
      ]
    },
    {
      "cell_type": "code",
      "metadata": {
        "colab": {
          "base_uri": "https://localhost:8080/"
        },
        "id": "IQG1AnddEy2E",
        "outputId": "39295254-14b6-43e4-e552-4acb24aa4e8b"
      },
      "source": [
        "%load_ext rpy2.ipython\n"
      ],
      "execution_count": 5,
      "outputs": [
        {
          "output_type": "stream",
          "name": "stdout",
          "text": [
            "The rpy2.ipython extension is already loaded. To reload it, use:\n",
            "  %reload_ext rpy2.ipython\n"
          ]
        }
      ]
    },
    {
      "cell_type": "code",
      "metadata": {
        "colab": {
          "base_uri": "https://localhost:8080/"
        },
        "id": "_uUp2m-aFqfW",
        "outputId": "c026111c-f60c-41d9-c4dc-45eebd7c3538"
      },
      "source": [
        "%%R\n",
        "\n",
        "install.packages(\"data.table\")\n"
      ],
      "execution_count": 8,
      "outputs": [
        {
          "output_type": "stream",
          "name": "stderr",
          "text": [
            "R[write to console]: Installing package into ‘/usr/local/lib/R/site-library’\n",
            "(as ‘lib’ is unspecified)\n",
            "\n",
            "R[write to console]: trying URL 'https://cran.rstudio.com/src/contrib/data.table_1.14.0.tar.gz'\n",
            "\n",
            "R[write to console]: Content type 'application/x-gzip'\n",
            "R[write to console]:  length 5303849 bytes (5.1 MB)\n",
            "\n",
            "R[write to console]: =\n",
            "R[write to console]: =\n",
            "R[write to console]: =\n",
            "R[write to console]: =\n",
            "R[write to console]: =\n",
            "R[write to console]: =\n",
            "R[write to console]: =\n",
            "R[write to console]: =\n",
            "R[write to console]: =\n",
            "R[write to console]: =\n",
            "R[write to console]: =\n",
            "R[write to console]: =\n",
            "R[write to console]: =\n",
            "R[write to console]: =\n",
            "R[write to console]: =\n",
            "R[write to console]: =\n",
            "R[write to console]: =\n",
            "R[write to console]: =\n",
            "R[write to console]: =\n",
            "R[write to console]: =\n",
            "R[write to console]: =\n",
            "R[write to console]: =\n",
            "R[write to console]: =\n",
            "R[write to console]: =\n",
            "R[write to console]: =\n",
            "R[write to console]: =\n",
            "R[write to console]: =\n",
            "R[write to console]: =\n",
            "R[write to console]: =\n",
            "R[write to console]: =\n",
            "R[write to console]: =\n",
            "R[write to console]: =\n",
            "R[write to console]: =\n",
            "R[write to console]: =\n",
            "R[write to console]: =\n",
            "R[write to console]: =\n",
            "R[write to console]: =\n",
            "R[write to console]: =\n",
            "R[write to console]: =\n",
            "R[write to console]: =\n",
            "R[write to console]: =\n",
            "R[write to console]: =\n",
            "R[write to console]: =\n",
            "R[write to console]: =\n",
            "R[write to console]: =\n",
            "R[write to console]: =\n",
            "R[write to console]: =\n",
            "R[write to console]: =\n",
            "R[write to console]: =\n",
            "R[write to console]: =\n",
            "R[write to console]: \n",
            "\n",
            "R[write to console]: downloaded 5.1 MB\n",
            "\n",
            "\n",
            "R[write to console]: \n",
            "\n",
            "R[write to console]: \n",
            "R[write to console]: The downloaded source packages are in\n",
            "\t‘/tmp/RtmptcOAL1/downloaded_packages’\n",
            "R[write to console]: \n",
            "R[write to console]: \n",
            "\n"
          ]
        }
      ]
    },
    {
      "cell_type": "code",
      "metadata": {
        "id": "ioYHBtvBHEUj"
      },
      "source": [
        "%%R\n",
        "\n",
        "sales1 <- read.csv(\"/content/Supermarket_Dataset_1 - Sales Data.csv\")"
      ],
      "execution_count": 9,
      "outputs": []
    },
    {
      "cell_type": "markdown",
      "metadata": {
        "id": "YFMw_5EQIg3g"
      },
      "source": [
        "# 3. checking the data"
      ]
    },
    {
      "cell_type": "code",
      "metadata": {
        "colab": {
          "base_uri": "https://localhost:8080/"
        },
        "id": "FtyTftowHUdm",
        "outputId": "8b3d5c28-a385-4564-85fd-16ad41cf4cdf"
      },
      "source": [
        "##Previewing the first 6 rows of dataset\n",
        "%%R\n",
        "head(sales1)"
      ],
      "execution_count": 10,
      "outputs": [
        {
          "output_type": "stream",
          "name": "stdout",
          "text": [
            "   Invoice.ID Branch Customer.type Gender           Product.line Unit.price\n",
            "1 750-67-8428      A        Member Female      Health and beauty      74.69\n",
            "2 226-31-3081      C        Normal Female Electronic accessories      15.28\n",
            "3 631-41-3108      A        Normal   Male     Home and lifestyle      46.33\n",
            "4 123-19-1176      A        Member   Male      Health and beauty      58.22\n",
            "5 373-73-7910      A        Normal   Male      Sports and travel      86.31\n",
            "6 699-14-3026      C        Normal   Male Electronic accessories      85.39\n",
            "  Quantity     Tax      Date  Time     Payment   cogs gross.margin.percentage\n",
            "1        7 26.1415  1/5/2019 13:08     Ewallet 522.83                4.761905\n",
            "2        5  3.8200  3/8/2019 10:29        Cash  76.40                4.761905\n",
            "3        7 16.2155  3/3/2019 13:23 Credit card 324.31                4.761905\n",
            "4        8 23.2880 1/27/2019 20:33     Ewallet 465.76                4.761905\n",
            "5        7 30.2085  2/8/2019 10:37     Ewallet 604.17                4.761905\n",
            "6        7 29.8865 3/25/2019 18:30     Ewallet 597.73                4.761905\n",
            "  gross.income Rating    Total\n",
            "1      26.1415    9.1 548.9715\n",
            "2       3.8200    9.6  80.2200\n",
            "3      16.2155    7.4 340.5255\n",
            "4      23.2880    8.4 489.0480\n",
            "5      30.2085    5.3 634.3785\n",
            "6      29.8865    4.1 627.6165\n"
          ]
        }
      ]
    },
    {
      "cell_type": "code",
      "metadata": {
        "colab": {
          "base_uri": "https://localhost:8080/"
        },
        "id": "WH7rO04cHqiJ",
        "outputId": "3de8cc16-9edd-4a44-d8e9-be490fc12bfd"
      },
      "source": [
        "%%R\n",
        "##Previewing the last 6 rows of dataset\n",
        "\n",
        "tail(sales1)"
      ],
      "execution_count": 11,
      "outputs": [
        {
          "output_type": "stream",
          "name": "stdout",
          "text": [
            "      Invoice.ID Branch Customer.type Gender           Product.line Unit.price\n",
            "995  652-49-6720      C        Member Female Electronic accessories      60.95\n",
            "996  233-67-5758      C        Normal   Male      Health and beauty      40.35\n",
            "997  303-96-2227      B        Normal Female     Home and lifestyle      97.38\n",
            "998  727-02-1313      A        Member   Male     Food and beverages      31.84\n",
            "999  347-56-2442      A        Normal   Male     Home and lifestyle      65.82\n",
            "1000 849-09-3807      A        Member Female    Fashion accessories      88.34\n",
            "     Quantity     Tax      Date  Time Payment   cogs gross.margin.percentage\n",
            "995         1  3.0475 2/18/2019 11:40 Ewallet  60.95                4.761905\n",
            "996         1  2.0175 1/29/2019 13:46 Ewallet  40.35                4.761905\n",
            "997        10 48.6900  3/2/2019 17:16 Ewallet 973.80                4.761905\n",
            "998         1  1.5920  2/9/2019 13:22    Cash  31.84                4.761905\n",
            "999         1  3.2910 2/22/2019 15:33    Cash  65.82                4.761905\n",
            "1000        7 30.9190 2/18/2019 13:28    Cash 618.38                4.761905\n",
            "     gross.income Rating     Total\n",
            "995        3.0475    5.9   63.9975\n",
            "996        2.0175    6.2   42.3675\n",
            "997       48.6900    4.4 1022.4900\n",
            "998        1.5920    7.7   33.4320\n",
            "999        3.2910    4.1   69.1110\n",
            "1000      30.9190    6.6  649.2990\n"
          ]
        }
      ]
    },
    {
      "cell_type": "code",
      "metadata": {
        "colab": {
          "base_uri": "https://localhost:8080/"
        },
        "id": "jnJ1XV5uHw1d",
        "outputId": "87a2014b-d7ee-4eb6-98ad-31258de61153"
      },
      "source": [
        "%%R\n",
        "##Basic structure of the data\n",
        "str(sales1)"
      ],
      "execution_count": 12,
      "outputs": [
        {
          "output_type": "stream",
          "name": "stdout",
          "text": [
            "'data.frame':\t1000 obs. of  16 variables:\n",
            " $ Invoice.ID             : chr  \"750-67-8428\" \"226-31-3081\" \"631-41-3108\" \"123-19-1176\" ...\n",
            " $ Branch                 : chr  \"A\" \"C\" \"A\" \"A\" ...\n",
            " $ Customer.type          : chr  \"Member\" \"Normal\" \"Normal\" \"Member\" ...\n",
            " $ Gender                 : chr  \"Female\" \"Female\" \"Male\" \"Male\" ...\n",
            " $ Product.line           : chr  \"Health and beauty\" \"Electronic accessories\" \"Home and lifestyle\" \"Health and beauty\" ...\n",
            " $ Unit.price             : num  74.7 15.3 46.3 58.2 86.3 ...\n",
            " $ Quantity               : int  7 5 7 8 7 7 6 10 2 3 ...\n",
            " $ Tax                    : num  26.14 3.82 16.22 23.29 30.21 ...\n",
            " $ Date                   : chr  \"1/5/2019\" \"3/8/2019\" \"3/3/2019\" \"1/27/2019\" ...\n",
            " $ Time                   : chr  \"13:08\" \"10:29\" \"13:23\" \"20:33\" ...\n",
            " $ Payment                : chr  \"Ewallet\" \"Cash\" \"Credit card\" \"Ewallet\" ...\n",
            " $ cogs                   : num  522.8 76.4 324.3 465.8 604.2 ...\n",
            " $ gross.margin.percentage: num  4.76 4.76 4.76 4.76 4.76 ...\n",
            " $ gross.income           : num  26.14 3.82 16.22 23.29 30.21 ...\n",
            " $ Rating                 : num  9.1 9.6 7.4 8.4 5.3 4.1 5.8 8 7.2 5.9 ...\n",
            " $ Total                  : num  549 80.2 340.5 489 634.4 ...\n"
          ]
        }
      ]
    },
    {
      "cell_type": "markdown",
      "metadata": {
        "id": "p-APa5cYINMJ"
      },
      "source": [
        "Here we can see the variables that are character and in number datatypes"
      ]
    },
    {
      "cell_type": "code",
      "metadata": {
        "colab": {
          "base_uri": "https://localhost:8080/"
        },
        "id": "kSuURRicIYDC",
        "outputId": "949387f0-33d9-4d06-cbbb-add30e08aad1"
      },
      "source": [
        "%%R\n",
        "# previewing the column names\n",
        "colnames(sales1)"
      ],
      "execution_count": 13,
      "outputs": [
        {
          "output_type": "stream",
          "name": "stdout",
          "text": [
            " [1] \"Invoice.ID\"              \"Branch\"                 \n",
            " [3] \"Customer.type\"           \"Gender\"                 \n",
            " [5] \"Product.line\"            \"Unit.price\"             \n",
            " [7] \"Quantity\"                \"Tax\"                    \n",
            " [9] \"Date\"                    \"Time\"                   \n",
            "[11] \"Payment\"                 \"cogs\"                   \n",
            "[13] \"gross.margin.percentage\" \"gross.income\"           \n",
            "[15] \"Rating\"                  \"Total\"                  \n"
          ]
        }
      ]
    },
    {
      "cell_type": "code",
      "metadata": {
        "colab": {
          "base_uri": "https://localhost:8080/"
        },
        "id": "ITqC5DJhIrh_",
        "outputId": "8f920c2f-5dbb-4c77-9d4c-1e64bcd0c6c9"
      },
      "source": [
        "%%R\n",
        "# previewing the dataset\n",
        "class(sales1)"
      ],
      "execution_count": 14,
      "outputs": [
        {
          "output_type": "stream",
          "name": "stdout",
          "text": [
            "[1] \"data.frame\"\n"
          ]
        }
      ]
    },
    {
      "cell_type": "markdown",
      "metadata": {
        "id": "BdmjUh7gI1HM"
      },
      "source": [
        "our sales1 is in for of a dataframe."
      ]
    },
    {
      "cell_type": "code",
      "metadata": {
        "colab": {
          "base_uri": "https://localhost:8080/"
        },
        "id": "zKjYR7deI7T5",
        "outputId": "e6d7db57-5138-4a54-bceb-39c65577ccd7"
      },
      "source": [
        "%%R\n",
        "# previewing the datatypes of the dataset\n",
        "sapply(sales1, class)"
      ],
      "execution_count": 15,
      "outputs": [
        {
          "output_type": "stream",
          "name": "stdout",
          "text": [
            "             Invoice.ID                  Branch           Customer.type \n",
            "            \"character\"             \"character\"             \"character\" \n",
            "                 Gender            Product.line              Unit.price \n",
            "            \"character\"             \"character\"               \"numeric\" \n",
            "               Quantity                     Tax                    Date \n",
            "              \"integer\"               \"numeric\"             \"character\" \n",
            "                   Time                 Payment                    cogs \n",
            "            \"character\"             \"character\"               \"numeric\" \n",
            "gross.margin.percentage            gross.income                  Rating \n",
            "              \"numeric\"               \"numeric\"               \"numeric\" \n",
            "                  Total \n",
            "              \"numeric\" \n"
          ]
        }
      ]
    },
    {
      "cell_type": "markdown",
      "metadata": {
        "id": "2poCneBFJCdp"
      },
      "source": [
        "There is datatypes of character, integer and number."
      ]
    },
    {
      "cell_type": "code",
      "metadata": {
        "colab": {
          "base_uri": "https://localhost:8080/"
        },
        "id": "9Brao8LsJHyL",
        "outputId": "22ef04c1-0e3a-4e53-fadc-2e4591b45ab2"
      },
      "source": [
        "%%R\n",
        "# checking the shape of the data\n",
        "dim(sales1)"
      ],
      "execution_count": 17,
      "outputs": [
        {
          "output_type": "stream",
          "name": "stdout",
          "text": [
            "[1] 1000   16\n"
          ]
        }
      ]
    },
    {
      "cell_type": "markdown",
      "metadata": {
        "id": "77rNcj7tJUrp"
      },
      "source": [
        "The dataset has 1000 records of data and 16 columns."
      ]
    },
    {
      "cell_type": "markdown",
      "metadata": {
        "id": "BsRBzTI4JVhy"
      },
      "source": [
        "# 4. Perform Data Cleaning\n",
        "\n",
        "## missing values"
      ]
    },
    {
      "cell_type": "code",
      "metadata": {
        "colab": {
          "base_uri": "https://localhost:8080/"
        },
        "id": "9zlhcXsPJQho",
        "outputId": "361f949f-9ae3-447e-c621-fe987f447322"
      },
      "source": [
        "%%R\n",
        "# checking for missing values\n",
        "sum(is.na(sales1))"
      ],
      "execution_count": 18,
      "outputs": [
        {
          "output_type": "stream",
          "name": "stdout",
          "text": [
            "[1] 0\n"
          ]
        }
      ]
    },
    {
      "cell_type": "markdown",
      "metadata": {
        "id": "6615e2gzJfli"
      },
      "source": [
        "no missing values."
      ]
    },
    {
      "cell_type": "markdown",
      "metadata": {
        "id": "oJD-q-A2JknF"
      },
      "source": [
        "## Duplicates"
      ]
    },
    {
      "cell_type": "code",
      "metadata": {
        "colab": {
          "base_uri": "https://localhost:8080/"
        },
        "id": "SyZ4VknZJlFk",
        "outputId": "c9197640-a7b1-49d7-89fd-783661dfddd4"
      },
      "source": [
        "%%R\n",
        "# Identifying duplicates\n",
        "duplicates <- sales1[duplicated(sales1), ]\n",
        "head(duplicates)"
      ],
      "execution_count": 19,
      "outputs": [
        {
          "output_type": "stream",
          "name": "stdout",
          "text": [
            " [1] Invoice.ID              Branch                  Customer.type          \n",
            " [4] Gender                  Product.line            Unit.price             \n",
            " [7] Quantity                Tax                     Date                   \n",
            "[10] Time                    Payment                 cogs                   \n",
            "[13] gross.margin.percentage gross.income            Rating                 \n",
            "[16] Total                  \n",
            "<0 rows> (or 0-length row.names)\n"
          ]
        }
      ]
    },
    {
      "cell_type": "markdown",
      "metadata": {
        "id": "7FmHHRKhJ6_V"
      },
      "source": [
        "There are no duplicates"
      ]
    },
    {
      "cell_type": "markdown",
      "metadata": {
        "id": "BGaEwBHbJ-dT"
      },
      "source": [
        "## Outliers"
      ]
    },
    {
      "cell_type": "code",
      "metadata": {
        "colab": {
          "base_uri": "https://localhost:8080/"
        },
        "id": "p1Ldvx_XJge0",
        "outputId": "90d35259-c955-440d-f656-fc95b2c53626"
      },
      "source": [
        "%%R\n",
        "#install.packages(\"dplyr\")    # alternative installation of the %>%\n",
        "\n",
        "library(dplyr)"
      ],
      "execution_count": 22,
      "outputs": [
        {
          "output_type": "stream",
          "name": "stderr",
          "text": [
            "R[write to console]: \n",
            "Attaching package: ‘dplyr’\n",
            "\n",
            "\n",
            "R[write to console]: The following objects are masked from ‘package:data.table’:\n",
            "\n",
            "    between, first, last\n",
            "\n",
            "\n",
            "R[write to console]: The following objects are masked from ‘package:stats’:\n",
            "\n",
            "    filter, lag\n",
            "\n",
            "\n",
            "R[write to console]: The following objects are masked from ‘package:base’:\n",
            "\n",
            "    intersect, setdiff, setequal, union\n",
            "\n",
            "\n"
          ]
        }
      ]
    },
    {
      "cell_type": "code",
      "metadata": {
        "colab": {
          "base_uri": "https://localhost:8080/",
          "height": 497
        },
        "id": "pfE0uLA5KVUN",
        "outputId": "449d82e8-b3b0-423d-fe12-6c607d4de144"
      },
      "source": [
        "%%R\n",
        "numeric_df <- sales1 %>% select_if(is.numeric)\n",
        "boxplot(numeric_df)"
      ],
      "execution_count": 23,
      "outputs": [
        {
          "output_type": "display_data",
          "data": {
            "image/png": "[encoded data removed]"
          },
          "metadata": {}
        }
      ]
    },
    {
      "cell_type": "markdown",
      "metadata": {
        "id": "mOnsDyknKb-D"
      },
      "source": [
        "We notice that the column Cogs and Total have a few outliers"
      ]
    },
    {
      "cell_type": "markdown",
      "metadata": {
        "id": "ty5zxCoNKeu_"
      },
      "source": [
        "changing column names to make them uniform"
      ]
    },
    {
      "cell_type": "code",
      "metadata": {
        "colab": {
          "base_uri": "https://localhost:8080/"
        },
        "id": "7LKn5KSrKVJg",
        "outputId": "f95e681f-0fa9-42d5-a8dc-edec3fbfb8ef"
      },
      "source": [
        "%%R\n",
        "colnames(sales1) = tolower(colnames(sales1))\n",
        "\n",
        "#to confirm the change\n",
        "names (sales1)"
      ],
      "execution_count": 25,
      "outputs": [
        {
          "output_type": "stream",
          "name": "stdout",
          "text": [
            " [1] \"invoice.id\"              \"branch\"                 \n",
            " [3] \"customer.type\"           \"gender\"                 \n",
            " [5] \"product.line\"            \"unit.price\"             \n",
            " [7] \"quantity\"                \"tax\"                    \n",
            " [9] \"date\"                    \"time\"                   \n",
            "[11] \"payment\"                 \"cogs\"                   \n",
            "[13] \"gross.margin.percentage\" \"gross.income\"           \n",
            "[15] \"rating\"                  \"total\"                  \n"
          ]
        }
      ]
    },
    {
      "cell_type": "markdown",
      "metadata": {
        "id": "7UMYAunIKq2x"
      },
      "source": [
        "Dropping columns that we do not need"
      ]
    },
    {
      "cell_type": "code",
      "metadata": {
        "colab": {
          "base_uri": "https://localhost:8080/"
        },
        "id": "mBE07Gr1KVBX",
        "outputId": "4cfed83e-bfda-4fc4-8713-1c10f8fcc111"
      },
      "source": [
        "%%R\n",
        "#gross.income and tax are the same so we will drop one, \n",
        "#we also don't need invoice id in our analysis.\n",
        "\n",
        "sales1[ ,c('tax','invoice.id')] <- list(NULL)\n",
        "\n",
        "#to confirm they have been deleted\n",
        "names(sales1)"
      ],
      "execution_count": 26,
      "outputs": [
        {
          "output_type": "stream",
          "name": "stdout",
          "text": [
            " [1] \"branch\"                  \"customer.type\"          \n",
            " [3] \"gender\"                  \"product.line\"           \n",
            " [5] \"unit.price\"              \"quantity\"               \n",
            " [7] \"date\"                    \"time\"                   \n",
            " [9] \"payment\"                 \"cogs\"                   \n",
            "[11] \"gross.margin.percentage\" \"gross.income\"           \n",
            "[13] \"rating\"                  \"total\"                  \n"
          ]
        }
      ]
    },
    {
      "cell_type": "code",
      "metadata": {
        "colab": {
          "base_uri": "https://localhost:8080/"
        },
        "id": "Drmb3zDlKU7S",
        "outputId": "9dd7cead-72fd-4fbf-f0a0-a560c04051f7"
      },
      "source": [
        "%%R\n",
        "#separating the date column into 'year','month','day'\n",
        "library(tidyr)\n",
        "\n",
        "sales1_date <- separate(sales1, date, c(\"month\", \"day\", \"year\"))\n",
        "head(sales1_date,n=2) "
      ],
      "execution_count": 27,
      "outputs": [
        {
          "output_type": "stream",
          "name": "stdout",
          "text": [
            "  branch customer.type gender           product.line unit.price quantity month\n",
            "1      A        Member Female      Health and beauty      74.69        7     1\n",
            "2      C        Normal Female Electronic accessories      15.28        5     3\n",
            "  day year  time payment   cogs gross.margin.percentage gross.income rating\n",
            "1   5 2019 13:08 Ewallet 522.83                4.761905      26.1415    9.1\n",
            "2   8 2019 10:29    Cash  76.40                4.761905       3.8200    9.6\n",
            "     total\n",
            "1 548.9715\n",
            "2  80.2200\n"
          ]
        }
      ]
    },
    {
      "cell_type": "markdown",
      "metadata": {
        "id": "ZIvYu0SyK4B1"
      },
      "source": [
        "We notice that our data is from the year 2019"
      ]
    },
    {
      "cell_type": "code",
      "metadata": {
        "colab": {
          "base_uri": "https://localhost:8080/"
        },
        "id": "7unXNzghK6Os",
        "outputId": "e96faf3e-9904-4a15-a630-8d157b728494"
      },
      "source": [
        "%%R\n",
        "\n",
        "library(tidyverse)\n",
        "library(magrittr) \n",
        "\n",
        "#Factors are used to represent categorical data and are important for statistical analysis and for plotting.\n",
        "#For the categorical data we will change to levels\n",
        "\n",
        "sales1_cat= c('branch', 'customer.type', 'gender', 'product.line', 'payment', 'year','month','day')\n",
        "\n",
        "# Changing columns to factors\n",
        "\n",
        "sales1_date[,sales1_cat] %<>% lapply(function(x) as.factor(as.character(x)))\n",
        "str(sales1_date)"
      ],
      "execution_count": 28,
      "outputs": [
        {
          "output_type": "stream",
          "name": "stderr",
          "text": [
            "R[write to console]: ── Attaching packages ─────────────────────────────────────── tidyverse 1.3.1 ──\n",
            "\n",
            "R[write to console]: ✔ ggplot2 3.3.5     ✔ purrr   0.3.4\n",
            "✔ tibble  3.1.3     ✔ stringr 1.4.0\n",
            "✔ readr   2.0.1     ✔ forcats 0.5.1\n",
            "\n",
            "R[write to console]: ── Conflicts ────────────────────────────────────────── tidyverse_conflicts() ──\n",
            "✖ dplyr::between()   masks data.table::between()\n",
            "✖ dplyr::filter()    masks stats::filter()\n",
            "✖ dplyr::first()     masks data.table::first()\n",
            "✖ dplyr::lag()       masks stats::lag()\n",
            "✖ dplyr::last()      masks data.table::last()\n",
            "✖ purrr::transpose() masks data.table::transpose()\n",
            "\n",
            "R[write to console]: \n",
            "Attaching package: ‘magrittr’\n",
            "\n",
            "\n",
            "R[write to console]: The following object is masked from ‘package:purrr’:\n",
            "\n",
            "    set_names\n",
            "\n",
            "\n",
            "R[write to console]: The following object is masked from ‘package:tidyr’:\n",
            "\n",
            "    extract\n",
            "\n",
            "\n"
          ]
        },
        {
          "output_type": "stream",
          "name": "stdout",
          "text": [
            "'data.frame':\t1000 obs. of  16 variables:\n",
            " $ branch                 : Factor w/ 3 levels \"A\",\"B\",\"C\": 1 3 1 1 1 3 1 3 1 2 ...\n",
            " $ customer.type          : Factor w/ 2 levels \"Member\",\"Normal\": 1 2 2 1 2 2 1 2 1 1 ...\n",
            " $ gender                 : Factor w/ 2 levels \"Female\",\"Male\": 1 1 2 2 2 2 1 1 1 1 ...\n",
            " $ product.line           : Factor w/ 6 levels \"Electronic accessories\",..: 4 1 5 4 6 1 1 5 4 3 ...\n",
            " $ unit.price             : num  74.7 15.3 46.3 58.2 86.3 ...\n",
            " $ quantity               : int  7 5 7 8 7 7 6 10 2 3 ...\n",
            " $ month                  : Factor w/ 3 levels \"1\",\"2\",\"3\": 1 3 3 1 2 3 2 2 1 2 ...\n",
            " $ day                    : Factor w/ 31 levels \"1\",\"10\",\"11\",..: 27 30 23 20 30 18 18 17 2 13 ...\n",
            " $ year                   : Factor w/ 1 level \"2019\": 1 1 1 1 1 1 1 1 1 1 ...\n",
            " $ time                   : chr  \"13:08\" \"10:29\" \"13:23\" \"20:33\" ...\n",
            " $ payment                : Factor w/ 3 levels \"Cash\",\"Credit card\",..: 3 1 2 3 3 3 3 3 2 2 ...\n",
            " $ cogs                   : num  522.8 76.4 324.3 465.8 604.2 ...\n",
            " $ gross.margin.percentage: num  4.76 4.76 4.76 4.76 4.76 ...\n",
            " $ gross.income           : num  26.14 3.82 16.22 23.29 30.21 ...\n",
            " $ rating                 : num  9.1 9.6 7.4 8.4 5.3 4.1 5.8 8 7.2 5.9 ...\n",
            " $ total                  : num  549 80.2 340.5 489 634.4 ...\n"
          ]
        }
      ]
    },
    {
      "cell_type": "markdown",
      "metadata": {
        "id": "mhZ5NUwcK_un"
      },
      "source": [
        "We observe that:\n",
        "there rae two types of customer; member and normal.\n",
        "There are three branches.\n",
        "there are two types of gender.\n",
        "There are three types of payments.\n",
        "the data is only for 2019.\n",
        "we have 3 months and 31 days.\n",
        "there are 6 types of product line."
      ]
    },
    {
      "cell_type": "code",
      "metadata": {
        "colab": {
          "base_uri": "https://localhost:8080/"
        },
        "id": "2SvDnVfQLDhQ",
        "outputId": "2064089e-fdbc-4e6b-ecb2-06a56fd76d73"
      },
      "source": [
        "%%R\n",
        "#we separate our datatypes columns we divide them into numerical and into categorical\n",
        "# we had already defined categorical but need numerical\n",
        "\n",
        "sales1_num <- subset(sales1_date, select = c(unit.price, quantity,cogs,gross.margin.percentage, gross.income, rating ,total))\n",
        "head(sales1_num,n=3)\n"
      ],
      "execution_count": 30,
      "outputs": [
        {
          "output_type": "stream",
          "name": "stdout",
          "text": [
            "  unit.price quantity   cogs gross.margin.percentage gross.income rating\n",
            "1      74.69        7 522.83                4.761905      26.1415    9.1\n",
            "2      15.28        5  76.40                4.761905       3.8200    9.6\n",
            "3      46.33        7 324.31                4.761905      16.2155    7.4\n",
            "     total\n",
            "1 548.9715\n",
            "2  80.2200\n",
            "3 340.5255\n"
          ]
        }
      ]
    },
    {
      "cell_type": "code",
      "metadata": {
        "colab": {
          "base_uri": "https://localhost:8080/"
        },
        "id": "MiyN40kwLR9n",
        "outputId": "c1062212-aed6-48e5-8481-14f60c097dae"
      },
      "source": [
        "%%R\n",
        "#we can go ahead and change the above dataframes into tibbles for easier \n",
        "sales1_numt<-as_tibble(sales1_num)\n",
        "head(sales1_numt,n=3)"
      ],
      "execution_count": 31,
      "outputs": [
        {
          "output_type": "stream",
          "name": "stdout",
          "text": [
            "# A tibble: 3 × 7\n",
            "  unit.price quantity  cogs gross.margin.percentage gross.income rating total\n",
            "       <dbl>    <int> <dbl>                   <dbl>        <dbl>  <dbl> <dbl>\n",
            "1       74.7        7 523.                     4.76        26.1     9.1 549. \n",
            "2       15.3        5  76.4                    4.76         3.82    9.6  80.2\n",
            "3       46.3        7 324.                     4.76        16.2     7.4 341. \n"
          ]
        }
      ]
    },
    {
      "cell_type": "code",
      "metadata": {
        "colab": {
          "base_uri": "https://localhost:8080/"
        },
        "id": "8rG-4G8TLWHy",
        "outputId": "9bc93168-b7ff-49f3-f53c-8cb1f4a6b25c"
      },
      "source": [
        "%%R\n",
        "sales1_cat <- subset(sales1_date, select = c(branch, customer.type, gender, product.line, payment, year,month,day))\n",
        "head(sales1_cat,n=3)"
      ],
      "execution_count": 33,
      "outputs": [
        {
          "output_type": "stream",
          "name": "stdout",
          "text": [
            "  branch customer.type gender           product.line     payment year month day\n",
            "1      A        Member Female      Health and beauty     Ewallet 2019     1   5\n",
            "2      C        Normal Female Electronic accessories        Cash 2019     3   8\n",
            "3      A        Normal   Male     Home and lifestyle Credit card 2019     3   3\n",
            "  branch customer.type gender           product.line     payment year month day\n",
            "1      A        Member Female      Health and beauty     Ewallet 2019     1   5\n",
            "2      C        Normal Female Electronic accessories        Cash 2019     3   8\n",
            "3      A        Normal   Male     Home and lifestyle Credit card 2019     3   3\n"
          ]
        }
      ]
    },
    {
      "cell_type": "code",
      "metadata": {
        "colab": {
          "base_uri": "https://localhost:8080/"
        },
        "id": "bPOtvrJxLb0A",
        "outputId": "10dd15bc-dee3-4bf5-eecd-135aed59d0e1"
      },
      "source": [
        "%%R\n",
        "#category columns as tible\n",
        "sales1_cat_t<-as_tibble(sales1_cat)\n",
        "head(sales1_cat_t,n=3)"
      ],
      "execution_count": 34,
      "outputs": [
        {
          "output_type": "stream",
          "name": "stdout",
          "text": [
            "# A tibble: 3 × 8\n",
            "  branch customer.type gender product.line          payment    year  month day  \n",
            "  <fct>  <fct>         <fct>  <fct>                 <fct>      <fct> <fct> <fct>\n",
            "1 A      Member        Female Health and beauty     Ewallet    2019  1     5    \n",
            "2 C      Normal        Female Electronic accessori… Cash       2019  3     8    \n",
            "3 A      Normal        Male   Home and lifestyle    Credit ca… 2019  3     3    \n"
          ]
        }
      ]
    },
    {
      "cell_type": "markdown",
      "metadata": {
        "id": "89kgn-BuLhSQ"
      },
      "source": [
        "# 5. Exploratory Data Analysis  (Univariate, Bivariate & Multivariate)\n"
      ]
    },
    {
      "cell_type": "markdown",
      "metadata": {
        "id": "2alI6qD4LmJR"
      },
      "source": [
        "## 5.1 Univariate Analysis"
      ]
    },
    {
      "cell_type": "code",
      "metadata": {
        "colab": {
          "base_uri": "https://localhost:8080/",
          "height": 589
        },
        "id": "Y4e_q6JiLpRX",
        "outputId": "7e6e72f6-8b85-4343-c9ab-586423e6230b"
      },
      "source": [
        "%%R\n",
        "\n",
        "library(ggplot2)\n",
        "\n",
        "\n",
        "#Descriptive analysis into measures of central Tendency\n",
        "\n",
        "describe(sales1_numt)"
      ],
      "execution_count": 43,
      "outputs": [
        {
          "output_type": "stream",
          "name": "stderr",
          "text": [
            "R[write to console]: Error in describe(sales1_numt) : could not find function \"describe\"\n",
            "\n"
          ]
        },
        {
          "output_type": "stream",
          "name": "stdout",
          "text": [
            "\n",
            "Error in describe(sales1_numt) : could not find function \"describe\"\n"
          ]
        },
        {
          "output_type": "error",
          "ename": "RInterpreterError",
          "evalue": "ignored",
          "traceback": [
            "\u001b[0;31m---------------------------------------------------------------------------\u001b[0m",
            "\u001b[0;31mRRuntimeError\u001b[0m                             Traceback (most recent call last)",
            "\u001b[0;32m/usr/local/lib/python3.7/dist-packages/rpy2/ipython/rmagic.py\u001b[0m in \u001b[0;36meval\u001b[0;34m(self, code)\u001b[0m\n\u001b[1;32m    267\u001b[0m                 \u001b[0;31m# Need the newline in case the last line in code is a comment.\u001b[0m\u001b[0;34m\u001b[0m\u001b[0;34m\u001b[0m\u001b[0;34m\u001b[0m\u001b[0m\n\u001b[0;32m--> 268\u001b[0;31m                 \u001b[0mvalue\u001b[0m\u001b[0;34m,\u001b[0m \u001b[0mvisible\u001b[0m \u001b[0;34m=\u001b[0m \u001b[0mro\u001b[0m\u001b[0;34m.\u001b[0m\u001b[0mr\u001b[0m\u001b[0;34m(\u001b[0m\u001b[0;34m\"withVisible({%s\\n})\"\u001b[0m \u001b[0;34m%\u001b[0m \u001b[0mcode\u001b[0m\u001b[0;34m)\u001b[0m\u001b[0;34m\u001b[0m\u001b[0;34m\u001b[0m\u001b[0m\n\u001b[0m\u001b[1;32m    269\u001b[0m             \u001b[0;32mexcept\u001b[0m \u001b[0;34m(\u001b[0m\u001b[0mri\u001b[0m\u001b[0;34m.\u001b[0m\u001b[0membedded\u001b[0m\u001b[0;34m.\u001b[0m\u001b[0mRRuntimeError\u001b[0m\u001b[0;34m,\u001b[0m \u001b[0mValueError\u001b[0m\u001b[0;34m)\u001b[0m \u001b[0;32mas\u001b[0m \u001b[0mexception\u001b[0m\u001b[0;34m:\u001b[0m\u001b[0;34m\u001b[0m\u001b[0;34m\u001b[0m\u001b[0m\n",
            "\u001b[0;32m/usr/local/lib/python3.7/dist-packages/rpy2/robjects/__init__.py\u001b[0m in \u001b[0;36m__call__\u001b[0;34m(self, string)\u001b[0m\n\u001b[1;32m    437\u001b[0m         \u001b[0mp\u001b[0m \u001b[0;34m=\u001b[0m \u001b[0mrinterface\u001b[0m\u001b[0;34m.\u001b[0m\u001b[0mparse\u001b[0m\u001b[0;34m(\u001b[0m\u001b[0mstring\u001b[0m\u001b[0;34m)\u001b[0m\u001b[0;34m\u001b[0m\u001b[0;34m\u001b[0m\u001b[0m\n\u001b[0;32m--> 438\u001b[0;31m         \u001b[0mres\u001b[0m \u001b[0;34m=\u001b[0m \u001b[0mself\u001b[0m\u001b[0;34m.\u001b[0m\u001b[0meval\u001b[0m\u001b[0;34m(\u001b[0m\u001b[0mp\u001b[0m\u001b[0;34m)\u001b[0m\u001b[0;34m\u001b[0m\u001b[0;34m\u001b[0m\u001b[0m\n\u001b[0m\u001b[1;32m    439\u001b[0m         \u001b[0;32mreturn\u001b[0m \u001b[0mconversion\u001b[0m\u001b[0;34m.\u001b[0m\u001b[0mrpy2py\u001b[0m\u001b[0;34m(\u001b[0m\u001b[0mres\u001b[0m\u001b[0;34m)\u001b[0m\u001b[0;34m\u001b[0m\u001b[0;34m\u001b[0m\u001b[0m\n",
            "\u001b[0;32m/usr/local/lib/python3.7/dist-packages/rpy2/robjects/functions.py\u001b[0m in \u001b[0;36m__call__\u001b[0;34m(self, *args, **kwargs)\u001b[0m\n\u001b[1;32m    198\u001b[0m         return (super(SignatureTranslatedFunction, self)\n\u001b[0;32m--> 199\u001b[0;31m                 .__call__(*args, **kwargs))\n\u001b[0m\u001b[1;32m    200\u001b[0m \u001b[0;34m\u001b[0m\u001b[0m\n",
            "\u001b[0;32m/usr/local/lib/python3.7/dist-packages/rpy2/robjects/functions.py\u001b[0m in \u001b[0;36m__call__\u001b[0;34m(self, *args, **kwargs)\u001b[0m\n\u001b[1;32m    124\u001b[0m                 \u001b[0mnew_kwargs\u001b[0m\u001b[0;34m[\u001b[0m\u001b[0mk\u001b[0m\u001b[0;34m]\u001b[0m \u001b[0;34m=\u001b[0m \u001b[0mconversion\u001b[0m\u001b[0;34m.\u001b[0m\u001b[0mpy2rpy\u001b[0m\u001b[0;34m(\u001b[0m\u001b[0mv\u001b[0m\u001b[0;34m)\u001b[0m\u001b[0;34m\u001b[0m\u001b[0;34m\u001b[0m\u001b[0m\n\u001b[0;32m--> 125\u001b[0;31m         \u001b[0mres\u001b[0m \u001b[0;34m=\u001b[0m \u001b[0msuper\u001b[0m\u001b[0;34m(\u001b[0m\u001b[0mFunction\u001b[0m\u001b[0;34m,\u001b[0m \u001b[0mself\u001b[0m\u001b[0;34m)\u001b[0m\u001b[0;34m.\u001b[0m\u001b[0m__call__\u001b[0m\u001b[0;34m(\u001b[0m\u001b[0;34m*\u001b[0m\u001b[0mnew_args\u001b[0m\u001b[0;34m,\u001b[0m \u001b[0;34m**\u001b[0m\u001b[0mnew_kwargs\u001b[0m\u001b[0;34m)\u001b[0m\u001b[0;34m\u001b[0m\u001b[0;34m\u001b[0m\u001b[0m\n\u001b[0m\u001b[1;32m    126\u001b[0m         \u001b[0mres\u001b[0m \u001b[0;34m=\u001b[0m \u001b[0mconversion\u001b[0m\u001b[0;34m.\u001b[0m\u001b[0mrpy2py\u001b[0m\u001b[0;34m(\u001b[0m\u001b[0mres\u001b[0m\u001b[0;34m)\u001b[0m\u001b[0;34m\u001b[0m\u001b[0;34m\u001b[0m\u001b[0m\n",
            "\u001b[0;32m/usr/local/lib/python3.7/dist-packages/rpy2/rinterface_lib/conversion.py\u001b[0m in \u001b[0;36m_\u001b[0;34m(*args, **kwargs)\u001b[0m\n\u001b[1;32m     44\u001b[0m     \u001b[0;32mdef\u001b[0m \u001b[0m_\u001b[0m\u001b[0;34m(\u001b[0m\u001b[0;34m*\u001b[0m\u001b[0margs\u001b[0m\u001b[0;34m,\u001b[0m \u001b[0;34m**\u001b[0m\u001b[0mkwargs\u001b[0m\u001b[0;34m)\u001b[0m\u001b[0;34m:\u001b[0m\u001b[0;34m\u001b[0m\u001b[0;34m\u001b[0m\u001b[0m\n\u001b[0;32m---> 45\u001b[0;31m         \u001b[0mcdata\u001b[0m \u001b[0;34m=\u001b[0m \u001b[0mfunction\u001b[0m\u001b[0;34m(\u001b[0m\u001b[0;34m*\u001b[0m\u001b[0margs\u001b[0m\u001b[0;34m,\u001b[0m \u001b[0;34m**\u001b[0m\u001b[0mkwargs\u001b[0m\u001b[0;34m)\u001b[0m\u001b[0;34m\u001b[0m\u001b[0;34m\u001b[0m\u001b[0m\n\u001b[0m\u001b[1;32m     46\u001b[0m         \u001b[0;31m# TODO: test cdata is of the expected CType\u001b[0m\u001b[0;34m\u001b[0m\u001b[0;34m\u001b[0m\u001b[0;34m\u001b[0m\u001b[0m\n",
            "\u001b[0;32m/usr/local/lib/python3.7/dist-packages/rpy2/rinterface.py\u001b[0m in \u001b[0;36m__call__\u001b[0;34m(self, *args, **kwargs)\u001b[0m\n\u001b[1;32m    679\u001b[0m             \u001b[0;32mif\u001b[0m \u001b[0merror_occured\u001b[0m\u001b[0;34m[\u001b[0m\u001b[0;36m0\u001b[0m\u001b[0;34m]\u001b[0m\u001b[0;34m:\u001b[0m\u001b[0;34m\u001b[0m\u001b[0;34m\u001b[0m\u001b[0m\n\u001b[0;32m--> 680\u001b[0;31m                 \u001b[0;32mraise\u001b[0m \u001b[0membedded\u001b[0m\u001b[0;34m.\u001b[0m\u001b[0mRRuntimeError\u001b[0m\u001b[0;34m(\u001b[0m\u001b[0m_rinterface\u001b[0m\u001b[0;34m.\u001b[0m\u001b[0m_geterrmessage\u001b[0m\u001b[0;34m(\u001b[0m\u001b[0;34m)\u001b[0m\u001b[0;34m)\u001b[0m\u001b[0;34m\u001b[0m\u001b[0;34m\u001b[0m\u001b[0m\n\u001b[0m\u001b[1;32m    681\u001b[0m         \u001b[0;32mreturn\u001b[0m \u001b[0mres\u001b[0m\u001b[0;34m\u001b[0m\u001b[0;34m\u001b[0m\u001b[0m\n",
            "\u001b[0;31mRRuntimeError\u001b[0m: Error in describe(sales1_numt) : could not find function \"describe\"\n",
            "\nDuring handling of the above exception, another exception occurred:\n",
            "\u001b[0;31mRInterpreterError\u001b[0m                         Traceback (most recent call last)",
            "\u001b[0;32m<ipython-input-43-3eec502478ac>\u001b[0m in \u001b[0;36m<module>\u001b[0;34m()\u001b[0m\n\u001b[0;32m----> 1\u001b[0;31m \u001b[0mget_ipython\u001b[0m\u001b[0;34m(\u001b[0m\u001b[0;34m)\u001b[0m\u001b[0;34m.\u001b[0m\u001b[0mrun_cell_magic\u001b[0m\u001b[0;34m(\u001b[0m\u001b[0;34m'R'\u001b[0m\u001b[0;34m,\u001b[0m \u001b[0;34m''\u001b[0m\u001b[0;34m,\u001b[0m \u001b[0;34m'\\nlibrary(ggplot2)\\n\\n\\n#Descriptive analysis into measures of central Tendency\\n\\ndescribe(sales1_numt)'\u001b[0m\u001b[0;34m)\u001b[0m\u001b[0;34m\u001b[0m\u001b[0;34m\u001b[0m\u001b[0m\n\u001b[0m",
            "\u001b[0;32m/usr/local/lib/python3.7/dist-packages/IPython/core/interactiveshell.py\u001b[0m in \u001b[0;36mrun_cell_magic\u001b[0;34m(self, magic_name, line, cell)\u001b[0m\n\u001b[1;32m   2115\u001b[0m             \u001b[0mmagic_arg_s\u001b[0m \u001b[0;34m=\u001b[0m \u001b[0mself\u001b[0m\u001b[0;34m.\u001b[0m\u001b[0mvar_expand\u001b[0m\u001b[0;34m(\u001b[0m\u001b[0mline\u001b[0m\u001b[0;34m,\u001b[0m \u001b[0mstack_depth\u001b[0m\u001b[0;34m)\u001b[0m\u001b[0;34m\u001b[0m\u001b[0;34m\u001b[0m\u001b[0m\n\u001b[1;32m   2116\u001b[0m             \u001b[0;32mwith\u001b[0m \u001b[0mself\u001b[0m\u001b[0;34m.\u001b[0m\u001b[0mbuiltin_trap\u001b[0m\u001b[0;34m:\u001b[0m\u001b[0;34m\u001b[0m\u001b[0;34m\u001b[0m\u001b[0m\n\u001b[0;32m-> 2117\u001b[0;31m                 \u001b[0mresult\u001b[0m \u001b[0;34m=\u001b[0m \u001b[0mfn\u001b[0m\u001b[0;34m(\u001b[0m\u001b[0mmagic_arg_s\u001b[0m\u001b[0;34m,\u001b[0m \u001b[0mcell\u001b[0m\u001b[0;34m)\u001b[0m\u001b[0;34m\u001b[0m\u001b[0;34m\u001b[0m\u001b[0m\n\u001b[0m\u001b[1;32m   2118\u001b[0m             \u001b[0;32mreturn\u001b[0m \u001b[0mresult\u001b[0m\u001b[0;34m\u001b[0m\u001b[0;34m\u001b[0m\u001b[0m\n\u001b[1;32m   2119\u001b[0m \u001b[0;34m\u001b[0m\u001b[0m\n",
            "\u001b[0;32m<decorator-gen-119>\u001b[0m in \u001b[0;36mR\u001b[0;34m(self, line, cell, local_ns)\u001b[0m\n",
            "\u001b[0;32m/usr/local/lib/python3.7/dist-packages/IPython/core/magic.py\u001b[0m in \u001b[0;36m<lambda>\u001b[0;34m(f, *a, **k)\u001b[0m\n\u001b[1;32m    186\u001b[0m     \u001b[0;31m# but it's overkill for just that one bit of state.\u001b[0m\u001b[0;34m\u001b[0m\u001b[0;34m\u001b[0m\u001b[0;34m\u001b[0m\u001b[0m\n\u001b[1;32m    187\u001b[0m     \u001b[0;32mdef\u001b[0m \u001b[0mmagic_deco\u001b[0m\u001b[0;34m(\u001b[0m\u001b[0marg\u001b[0m\u001b[0;34m)\u001b[0m\u001b[0;34m:\u001b[0m\u001b[0;34m\u001b[0m\u001b[0;34m\u001b[0m\u001b[0m\n\u001b[0;32m--> 188\u001b[0;31m         \u001b[0mcall\u001b[0m \u001b[0;34m=\u001b[0m \u001b[0;32mlambda\u001b[0m \u001b[0mf\u001b[0m\u001b[0;34m,\u001b[0m \u001b[0;34m*\u001b[0m\u001b[0ma\u001b[0m\u001b[0;34m,\u001b[0m \u001b[0;34m**\u001b[0m\u001b[0mk\u001b[0m\u001b[0;34m:\u001b[0m \u001b[0mf\u001b[0m\u001b[0;34m(\u001b[0m\u001b[0;34m*\u001b[0m\u001b[0ma\u001b[0m\u001b[0;34m,\u001b[0m \u001b[0;34m**\u001b[0m\u001b[0mk\u001b[0m\u001b[0;34m)\u001b[0m\u001b[0;34m\u001b[0m\u001b[0;34m\u001b[0m\u001b[0m\n\u001b[0m\u001b[1;32m    189\u001b[0m \u001b[0;34m\u001b[0m\u001b[0m\n\u001b[1;32m    190\u001b[0m         \u001b[0;32mif\u001b[0m \u001b[0mcallable\u001b[0m\u001b[0;34m(\u001b[0m\u001b[0marg\u001b[0m\u001b[0;34m)\u001b[0m\u001b[0;34m:\u001b[0m\u001b[0;34m\u001b[0m\u001b[0;34m\u001b[0m\u001b[0m\n",
            "\u001b[0;32m/usr/local/lib/python3.7/dist-packages/rpy2/ipython/rmagic.py\u001b[0m in \u001b[0;36mR\u001b[0;34m(self, line, cell, local_ns)\u001b[0m\n\u001b[1;32m    781\u001b[0m             \u001b[0;32mif\u001b[0m \u001b[0;32mnot\u001b[0m \u001b[0me\u001b[0m\u001b[0;34m.\u001b[0m\u001b[0mstdout\u001b[0m\u001b[0;34m.\u001b[0m\u001b[0mendswith\u001b[0m\u001b[0;34m(\u001b[0m\u001b[0me\u001b[0m\u001b[0;34m.\u001b[0m\u001b[0merr\u001b[0m\u001b[0;34m)\u001b[0m\u001b[0;34m:\u001b[0m\u001b[0;34m\u001b[0m\u001b[0;34m\u001b[0m\u001b[0m\n\u001b[1;32m    782\u001b[0m                 \u001b[0mprint\u001b[0m\u001b[0;34m(\u001b[0m\u001b[0me\u001b[0m\u001b[0;34m.\u001b[0m\u001b[0merr\u001b[0m\u001b[0;34m)\u001b[0m\u001b[0;34m\u001b[0m\u001b[0;34m\u001b[0m\u001b[0m\n\u001b[0;32m--> 783\u001b[0;31m             \u001b[0;32mraise\u001b[0m \u001b[0me\u001b[0m\u001b[0;34m\u001b[0m\u001b[0;34m\u001b[0m\u001b[0m\n\u001b[0m\u001b[1;32m    784\u001b[0m         \u001b[0;32mfinally\u001b[0m\u001b[0;34m:\u001b[0m\u001b[0;34m\u001b[0m\u001b[0;34m\u001b[0m\u001b[0m\n\u001b[1;32m    785\u001b[0m             \u001b[0;32mif\u001b[0m \u001b[0mself\u001b[0m\u001b[0;34m.\u001b[0m\u001b[0mdevice\u001b[0m \u001b[0;32min\u001b[0m \u001b[0;34m[\u001b[0m\u001b[0;34m'png'\u001b[0m\u001b[0;34m,\u001b[0m \u001b[0;34m'svg'\u001b[0m\u001b[0;34m]\u001b[0m\u001b[0;34m:\u001b[0m\u001b[0;34m\u001b[0m\u001b[0;34m\u001b[0m\u001b[0m\n",
            "\u001b[0;32m/usr/local/lib/python3.7/dist-packages/rpy2/ipython/rmagic.py\u001b[0m in \u001b[0;36mR\u001b[0;34m(self, line, cell, local_ns)\u001b[0m\n\u001b[1;32m    761\u001b[0m                     \u001b[0mreturn_output\u001b[0m \u001b[0;34m=\u001b[0m \u001b[0;32mFalse\u001b[0m\u001b[0;34m\u001b[0m\u001b[0;34m\u001b[0m\u001b[0m\n\u001b[1;32m    762\u001b[0m             \u001b[0;32melse\u001b[0m\u001b[0;34m:\u001b[0m\u001b[0;34m\u001b[0m\u001b[0;34m\u001b[0m\u001b[0m\n\u001b[0;32m--> 763\u001b[0;31m                 \u001b[0mtext_result\u001b[0m\u001b[0;34m,\u001b[0m \u001b[0mresult\u001b[0m\u001b[0;34m,\u001b[0m \u001b[0mvisible\u001b[0m \u001b[0;34m=\u001b[0m \u001b[0mself\u001b[0m\u001b[0;34m.\u001b[0m\u001b[0meval\u001b[0m\u001b[0;34m(\u001b[0m\u001b[0mcode\u001b[0m\u001b[0;34m)\u001b[0m\u001b[0;34m\u001b[0m\u001b[0;34m\u001b[0m\u001b[0m\n\u001b[0m\u001b[1;32m    764\u001b[0m                 \u001b[0mtext_output\u001b[0m \u001b[0;34m+=\u001b[0m \u001b[0mtext_result\u001b[0m\u001b[0;34m\u001b[0m\u001b[0;34m\u001b[0m\u001b[0m\n\u001b[1;32m    765\u001b[0m                 \u001b[0;32mif\u001b[0m \u001b[0mvisible\u001b[0m\u001b[0;34m:\u001b[0m\u001b[0;34m\u001b[0m\u001b[0;34m\u001b[0m\u001b[0m\n",
            "\u001b[0;32m/usr/local/lib/python3.7/dist-packages/rpy2/ipython/rmagic.py\u001b[0m in \u001b[0;36meval\u001b[0;34m(self, code)\u001b[0m\n\u001b[1;32m    271\u001b[0m                 \u001b[0mwarning_or_other_msg\u001b[0m \u001b[0;34m=\u001b[0m \u001b[0mself\u001b[0m\u001b[0;34m.\u001b[0m\u001b[0mflush\u001b[0m\u001b[0;34m(\u001b[0m\u001b[0;34m)\u001b[0m\u001b[0;34m\u001b[0m\u001b[0;34m\u001b[0m\u001b[0m\n\u001b[1;32m    272\u001b[0m                 raise RInterpreterError(code, str(exception),\n\u001b[0;32m--> 273\u001b[0;31m                                         warning_or_other_msg)\n\u001b[0m\u001b[1;32m    274\u001b[0m             \u001b[0mtext_output\u001b[0m \u001b[0;34m=\u001b[0m \u001b[0mself\u001b[0m\u001b[0;34m.\u001b[0m\u001b[0mflush\u001b[0m\u001b[0;34m(\u001b[0m\u001b[0;34m)\u001b[0m\u001b[0;34m\u001b[0m\u001b[0;34m\u001b[0m\u001b[0m\n\u001b[1;32m    275\u001b[0m             \u001b[0;32mreturn\u001b[0m \u001b[0mtext_output\u001b[0m\u001b[0;34m,\u001b[0m \u001b[0mvalue\u001b[0m\u001b[0;34m,\u001b[0m \u001b[0mvisible\u001b[0m\u001b[0;34m[\u001b[0m\u001b[0;36m0\u001b[0m\u001b[0;34m]\u001b[0m\u001b[0;34m\u001b[0m\u001b[0;34m\u001b[0m\u001b[0m\n",
            "\u001b[0;31mRInterpreterError\u001b[0m: Failed to parse and evaluate line '\\nlibrary(ggplot2)\\n\\n\\n#Descriptive analysis into measures of central Tendency\\n\\ndescribe(sales1_numt)'.\nR error message: 'Error in describe(sales1_numt) : could not find function \"describe\"'"
          ]
        }
      ]
    },
    {
      "cell_type": "code",
      "metadata": {
        "colab": {
          "base_uri": "https://localhost:8080/",
          "height": 977
        },
        "id": "4RqQV6gOMxsv",
        "outputId": "18fa4f3c-57a6-4607-f8e4-8e024476ca4b"
      },
      "source": [
        "%%R\n",
        "\n",
        "par(mfrow = c(2, 2))\n",
        "hist(sales1_numt$unit.price)\n",
        "hist(sales1_numt$quantity)\n",
        "hist(sales1_numt$cogs) \n",
        "hist(sales1_numt$gross.margin.percentage) \n",
        "hist(sales1_numt$gross.income) \n",
        "hist(sales1_numt$rating) \n",
        "hist(sales1_numt$total)"
      ],
      "execution_count": 45,
      "outputs": [
        {
          "output_type": "display_data",
          "data": {
            "image/png": "[encoded data removed]"
          },
          "metadata": {}
        },
        {
          "output_type": "display_data",
          "data": {
            "image/png": "[encoded data removed]"
          },
          "metadata": {}
        }
      ]
    },
    {
      "cell_type": "code",
      "metadata": {
        "colab": {
          "base_uri": "https://localhost:8080/"
        },
        "id": "ej-yHrxDM738",
        "outputId": "033cb853-6862-4e37-ab43-df695a6e1d7f"
      },
      "source": [
        "%%R\n",
        "\n",
        "par(mfrow = c(2, 2))\n",
        "f1 <- sales1_cat$branch\n",
        "f1y<- table(f1) \n",
        "head.matrix(f1y)\n",
        "f2 <- sales1_cat$customer.type\n",
        "f2y<- table(f2) \n",
        "head.matrix(f2y)\n",
        "f3 <- sales1_cat$gender \n",
        "f3y<- table(f3)\n",
        "head.matrix(f3y)\n",
        "f4 <- sales1_cat$product.line \n",
        "f4y<- table(f4) \n",
        "head.matrix(f4y)\n",
        "f5 <- sales1_cat$payment\n",
        "f5y<- table(f5)\n",
        "head.matrix(f5y)\n",
        "f6 <- sales1_cat$month\n",
        "f6y<- table(f6) \n",
        "head.matrix(f6y)\n",
        "f7 <- sales1_cat$day \n",
        "f7y<- table(f7)\n",
        "head.matrix(f7y)"
      ],
      "execution_count": 46,
      "outputs": [
        {
          "output_type": "stream",
          "name": "stdout",
          "text": [
            "f7\n",
            " 1 10 11 12 13 14 \n",
            "28 32 27 31 28 39 \n"
          ]
        }
      ]
    },
    {
      "cell_type": "markdown",
      "metadata": {
        "id": "6zei-_bjNBJs"
      },
      "source": [
        "the higest bought product is fashion accessories, and the lowest is health and beauty.\n",
        "\n",
        "the customer types both ahve almos same number of customers.\n",
        "the first month had highest sales then followed by the third and lastly the secodn month.\n",
        "\n",
        "both genders have almost same numbers.\n"
      ]
    },
    {
      "cell_type": "code",
      "metadata": {
        "colab": {
          "base_uri": "https://localhost:8080/",
          "height": 497
        },
        "id": "m47G1qNeNEkN",
        "outputId": "7152259b-e52e-4edc-93d8-70b732dbf4a2"
      },
      "source": [
        "%%R\n",
        "\n",
        "# fetching the columns\n",
        "products <- sales1_cat$product.line\n",
        "\n",
        "# fetching the frequency distribution\n",
        "product_frequency <- table(products)\n",
        "\n",
        "# plotting the bargraph\n",
        "barplot(product_frequency,  xlab = 'ProductRelated', ylab = 'frequency',  main = 'barplot on products')"
      ],
      "execution_count": 47,
      "outputs": [
        {
          "output_type": "display_data",
          "data": {
            "image/png": "[encoded data removed]"
          },
          "metadata": {}
        }
      ]
    },
    {
      "cell_type": "markdown",
      "metadata": {
        "id": "EahZOYz6NYSm"
      },
      "source": [
        "Health and beauty had the lowest sales though not much worrying difference."
      ]
    },
    {
      "cell_type": "markdown",
      "metadata": {
        "id": "HCZLAAY2NbGl"
      },
      "source": [
        "## 5.2 Bivariate analysis"
      ]
    },
    {
      "cell_type": "code",
      "metadata": {
        "colab": {
          "base_uri": "https://localhost:8080/",
          "height": 497
        },
        "id": "tx8ufAZsNShK",
        "outputId": "88043f81-f5b8-402d-af50-dd5c0e1cab83"
      },
      "source": [
        "%%R\n",
        "\n",
        "sales1_date %>%\n",
        "ggplot() +\n",
        "aes(x = day, gross.income = ..count../nrow(sales1_date), fill = gross.income) +\n",
        "geom_bar() +\n",
        "ylab(\"daily revenue trends\")"
      ],
      "execution_count": 48,
      "outputs": [
        {
          "output_type": "display_data",
          "data": {
            "image/png": "[encoded data removed]"
          },
          "metadata": {}
        }
      ]
    },
    {
      "cell_type": "markdown",
      "metadata": {
        "id": "4X7ApNLkNnI5"
      },
      "source": [
        "Day 15 had most highest revenue collected followed by day 25th, day 31 had the lowest revenue collected."
      ]
    },
    {
      "cell_type": "code",
      "metadata": {
        "colab": {
          "base_uri": "https://localhost:8080/",
          "height": 497
        },
        "id": "3SVaHpwwNSb8",
        "outputId": "1735de1d-3aea-436c-b2b0-0836a69ee36b"
      },
      "source": [
        "%%R\n",
        "\n",
        "sales1_date %>%\n",
        "ggplot() +\n",
        "aes(x = quantity, payment = ..count../nrow(sales1_date), fill = payment) +\n",
        "geom_bar() +\n",
        "ylab(\"payment sales trends\")"
      ],
      "execution_count": 49,
      "outputs": [
        {
          "output_type": "display_data",
          "data": {
            "image/png": "[encoded data removed]"
          },
          "metadata": {}
        }
      ]
    },
    {
      "cell_type": "code",
      "metadata": {
        "colab": {
          "base_uri": "https://localhost:8080/",
          "height": 497
        },
        "id": "TPijlnKHNSZn",
        "outputId": "b3704ebb-68f3-410c-eafd-568ac65f7cfd"
      },
      "source": [
        "%%R\n",
        "\n",
        "sales1_date %>%\n",
        "ggplot() +\n",
        "aes(x = quantity, month = ..count../nrow(sales1_date), fill = month) +\n",
        "geom_bar() +\n",
        "ylab(\"monthly sale trends\")"
      ],
      "execution_count": 50,
      "outputs": [
        {
          "output_type": "display_data",
          "data": {
            "image/png": "[encoded data removed]"
          },
          "metadata": {}
        }
      ]
    },
    {
      "cell_type": "markdown",
      "metadata": {
        "id": "fuEEjZBpN4pr"
      },
      "source": [
        "Month 1, customers who bought 10 items where high, and those who bought 8 items where the lowest."
      ]
    },
    {
      "cell_type": "code",
      "metadata": {
        "colab": {
          "base_uri": "https://localhost:8080/",
          "height": 497
        },
        "id": "x2_5g9pEN5gL",
        "outputId": "9fb81d55-b378-4981-9290-a890b22f7b3b"
      },
      "source": [
        "%%R\n",
        "\n",
        "sales1_date %>%\n",
        "ggplot() +\n",
        "aes(x = quantity, product.line = ..count../nrow(sales1_date), fill = product.line) +\n",
        "geom_bar() +\n",
        "ylab(\"product sales trends\")"
      ],
      "execution_count": 51,
      "outputs": [
        {
          "output_type": "display_data",
          "data": {
            "image/png": "[encoded data removed]"
          },
          "metadata": {}
        }
      ]
    },
    {
      "cell_type": "markdown",
      "metadata": {
        "id": "3D-c7vzpN_tM"
      },
      "source": [
        "most customers take 10 items of electronic accessories, \n",
        "\n",
        "fashion accessories, health & beauty and food & bevarages\n",
        "\n",
        "6 items of home&lifestyle had most sales\n",
        "\n",
        "7 items of sports&travel had most sales."
      ]
    },
    {
      "cell_type": "code",
      "metadata": {
        "colab": {
          "base_uri": "https://localhost:8080/",
          "height": 497
        },
        "id": "w-d8ntAmOKuZ",
        "outputId": "f3431170-65e3-489b-c832-6b239d0f051f"
      },
      "source": [
        "%%R\n",
        "\n",
        "sales1_date %>%\n",
        "ggplot() +\n",
        "aes(x = quantity, branxh = ..count../nrow(sales1_date), fill = branch) +\n",
        "geom_bar() +\n",
        "ylab(\"branch sale trends\")"
      ],
      "execution_count": 52,
      "outputs": [
        {
          "output_type": "display_data",
          "data": {
            "image/png": "[encoded data removed]"
          },
          "metadata": {}
        }
      ]
    },
    {
      "cell_type": "markdown",
      "metadata": {
        "id": "-Bbunp5YORkJ"
      },
      "source": [
        "all the branches had most of its customers purches 10 items"
      ]
    },
    {
      "cell_type": "code",
      "metadata": {
        "colab": {
          "base_uri": "https://localhost:8080/",
          "height": 497
        },
        "id": "5djlEqzpOSdi",
        "outputId": "fdfb7027-fec6-4af0-f0de-f426f9ad4509"
      },
      "source": [
        "%%R\n",
        "\n",
        "#Distribution of income per Branch\n",
        "ggplot(sales1_date,aes(x = total, fill = branch)) +geom_density(alpha = 0.4) +labs(title = \"Distribution of total sales per branch\")"
      ],
      "execution_count": 53,
      "outputs": [
        {
          "output_type": "display_data",
          "data": {
            "image/png": "[encoded data removed]"
          },
          "metadata": {}
        }
      ]
    },
    {
      "cell_type": "markdown",
      "metadata": {
        "id": "uv8eQaqzOaLf"
      },
      "source": [
        "branch A and B have highest sales between 1 & 300, then all branches experience low sales toward 100 shilling."
      ]
    },
    {
      "cell_type": "code",
      "metadata": {
        "colab": {
          "base_uri": "https://localhost:8080/",
          "height": 497
        },
        "id": "Yv0AvYcOObm8",
        "outputId": "42d3b188-945e-4f33-cdbd-54f345f45d4b"
      },
      "source": [
        "%%R\n",
        "\n",
        "#Distribution of income per Gender\n",
        "ggplot(sales1_date,aes(x = total, fill = gender)) +geom_density(alpha = 0.4) +labs(title = \"Distribution of total sales per Gender\")"
      ],
      "execution_count": 54,
      "outputs": [
        {
          "output_type": "display_data",
          "data": {
            "image/png": "[encoded data removed]"
          },
          "metadata": {}
        }
      ]
    },
    {
      "cell_type": "markdown",
      "metadata": {
        "id": "JhAJW3NsOiVS"
      },
      "source": [
        "the female buy items totaling to 250 more than males, while the males buy items totalling to a thousand more tha females."
      ]
    },
    {
      "cell_type": "code",
      "metadata": {
        "colab": {
          "base_uri": "https://localhost:8080/",
          "height": 497
        },
        "id": "ksDaGO7WOk_O",
        "outputId": "fc9cab64-fedd-423a-a5ec-a477528e58e8"
      },
      "source": [
        "%%R\n",
        "#Distribution of income per Gender\n",
        "ggplot(sales1_date,aes(x = total, fill = customer.type)) +geom_density(alpha = 0.4) +labs(title = \"does membership affect sales\")"
      ],
      "execution_count": 55,
      "outputs": [
        {
          "output_type": "display_data",
          "data": {
            "image/png": "[encoded data removed]"
          },
          "metadata": {}
        }
      ]
    },
    {
      "cell_type": "markdown",
      "metadata": {
        "id": "Z5-NLnzwOq2z"
      },
      "source": [
        "cystomer type-member generate more sales than the normal type."
      ]
    },
    {
      "cell_type": "code",
      "metadata": {
        "colab": {
          "base_uri": "https://localhost:8080/"
        },
        "id": "R2p08LBQOtDB",
        "outputId": "fb09db9e-a236-4e9b-9e45-1d51ead9d6fd"
      },
      "source": [
        "%%R\n",
        "\n",
        "install.packages(\"ggplot2\")\n",
        "install.packages(\"corrplot\")\n"
      ],
      "execution_count": 73,
      "outputs": [
        {
          "output_type": "stream",
          "name": "stderr",
          "text": [
            "R[write to console]: Installing package into ‘/usr/local/lib/R/site-library’\n",
            "(as ‘lib’ is unspecified)\n",
            "\n",
            "R[write to console]: trying URL 'https://cran.rstudio.com/src/contrib/ggplot2_3.3.5.tar.gz'\n",
            "\n",
            "R[write to console]: Content type 'application/x-gzip'\n",
            "R[write to console]:  length 3063309 bytes (2.9 MB)\n",
            "\n",
            "R[write to console]: =\n",
            "R[write to console]: =\n",
            "R[write to console]: =\n",
            "R[write to console]: =\n",
            "R[write to console]: =\n",
            "R[write to console]: =\n",
            "R[write to console]: =\n",
            "R[write to console]: =\n",
            "R[write to console]: =\n",
            "R[write to console]: =\n",
            "R[write to console]: =\n",
            "R[write to console]: =\n",
            "R[write to console]: =\n",
            "R[write to console]: =\n",
            "R[write to console]: =\n",
            "R[write to console]: =\n",
            "R[write to console]: =\n",
            "R[write to console]: =\n",
            "R[write to console]: =\n",
            "R[write to console]: =\n",
            "R[write to console]: =\n",
            "R[write to console]: =\n",
            "R[write to console]: =\n",
            "R[write to console]: =\n",
            "R[write to console]: =\n",
            "R[write to console]: =\n",
            "R[write to console]: =\n",
            "R[write to console]: =\n",
            "R[write to console]: =\n",
            "R[write to console]: =\n",
            "R[write to console]: =\n",
            "R[write to console]: =\n",
            "R[write to console]: =\n",
            "R[write to console]: =\n",
            "R[write to console]: =\n",
            "R[write to console]: =\n",
            "R[write to console]: =\n",
            "R[write to console]: =\n",
            "R[write to console]: =\n",
            "R[write to console]: =\n",
            "R[write to console]: =\n",
            "R[write to console]: =\n",
            "R[write to console]: =\n",
            "R[write to console]: =\n",
            "R[write to console]: =\n",
            "R[write to console]: =\n",
            "R[write to console]: =\n",
            "R[write to console]: =\n",
            "R[write to console]: =\n",
            "R[write to console]: =\n",
            "R[write to console]: \n",
            "\n",
            "R[write to console]: downloaded 2.9 MB\n",
            "\n",
            "\n",
            "R[write to console]: \n",
            "\n",
            "R[write to console]: \n",
            "R[write to console]: The downloaded source packages are in\n",
            "\t‘/tmp/RtmptcOAL1/downloaded_packages’\n",
            "R[write to console]: \n",
            "R[write to console]: \n",
            "\n",
            "R[write to console]: Installing package into ‘/usr/local/lib/R/site-library’\n",
            "(as ‘lib’ is unspecified)\n",
            "\n",
            "R[write to console]: trying URL 'https://cran.rstudio.com/src/contrib/corrplot_0.90.tar.gz'\n",
            "\n",
            "R[write to console]: Content type 'application/x-gzip'\n",
            "R[write to console]:  length 2820127 bytes (2.7 MB)\n",
            "\n",
            "R[write to console]: =\n",
            "R[write to console]: =\n",
            "R[write to console]: =\n",
            "R[write to console]: =\n",
            "R[write to console]: =\n",
            "R[write to console]: =\n",
            "R[write to console]: =\n",
            "R[write to console]: =\n",
            "R[write to console]: =\n",
            "R[write to console]: =\n",
            "R[write to console]: =\n",
            "R[write to console]: =\n",
            "R[write to console]: =\n",
            "R[write to console]: =\n",
            "R[write to console]: =\n",
            "R[write to console]: =\n",
            "R[write to console]: =\n",
            "R[write to console]: =\n",
            "R[write to console]: =\n",
            "R[write to console]: =\n",
            "R[write to console]: =\n",
            "R[write to console]: =\n",
            "R[write to console]: =\n",
            "R[write to console]: =\n",
            "R[write to console]: =\n",
            "R[write to console]: =\n",
            "R[write to console]: =\n",
            "R[write to console]: =\n",
            "R[write to console]: =\n",
            "R[write to console]: =\n",
            "R[write to console]: =\n",
            "R[write to console]: =\n",
            "R[write to console]: =\n",
            "R[write to console]: =\n",
            "R[write to console]: =\n",
            "R[write to console]: =\n",
            "R[write to console]: =\n",
            "R[write to console]: =\n",
            "R[write to console]: =\n",
            "R[write to console]: =\n",
            "R[write to console]: =\n",
            "R[write to console]: =\n",
            "R[write to console]: =\n",
            "R[write to console]: =\n",
            "R[write to console]: =\n",
            "R[write to console]: =\n",
            "R[write to console]: =\n",
            "R[write to console]: =\n",
            "R[write to console]: =\n",
            "R[write to console]: =\n",
            "R[write to console]: \n",
            "\n",
            "R[write to console]: downloaded 2.7 MB\n",
            "\n",
            "\n",
            "R[write to console]: \n",
            "\n",
            "R[write to console]: \n",
            "R[write to console]: The downloaded source packages are in\n",
            "\t‘/tmp/RtmptcOAL1/downloaded_packages’\n",
            "R[write to console]: \n",
            "R[write to console]: \n",
            "\n"
          ]
        }
      ]
    },
    {
      "cell_type": "code",
      "metadata": {
        "colab": {
          "base_uri": "https://localhost:8080/"
        },
        "id": "0aUgEoPVOzm3",
        "outputId": "a997de9c-e284-4067-8008-c7e88306ea99"
      },
      "source": [
        "%%R\n",
        "\n",
        "#Printing out correlations in our dataset\n",
        "cols <-cor(sales1_num)\n",
        "cols"
      ],
      "execution_count": 57,
      "outputs": [
        {
          "output_type": "stream",
          "name": "stdout",
          "text": [
            "                          unit.price    quantity       cogs\n",
            "unit.price               1.000000000  0.01077756  0.6339621\n",
            "quantity                 0.010777564  1.00000000  0.7055102\n",
            "cogs                     0.633962089  0.70551019  1.0000000\n",
            "gross.margin.percentage           NA          NA         NA\n",
            "gross.income             0.633962089  0.70551019  1.0000000\n",
            "rating                  -0.008777507 -0.01581490 -0.0364417\n",
            "total                    0.633962089  0.70551019  1.0000000\n",
            "                        gross.margin.percentage gross.income       rating\n",
            "unit.price                                   NA    0.6339621 -0.008777507\n",
            "quantity                                     NA    0.7055102 -0.015814905\n",
            "cogs                                         NA    1.0000000 -0.036441705\n",
            "gross.margin.percentage                       1           NA           NA\n",
            "gross.income                                 NA    1.0000000 -0.036441705\n",
            "rating                                       NA   -0.0364417  1.000000000\n",
            "total                                        NA    1.0000000 -0.036441705\n",
            "                             total\n",
            "unit.price               0.6339621\n",
            "quantity                 0.7055102\n",
            "cogs                     1.0000000\n",
            "gross.margin.percentage         NA\n",
            "gross.income             1.0000000\n",
            "rating                  -0.0364417\n",
            "total                    1.0000000\n"
          ]
        }
      ]
    },
    {
      "cell_type": "code",
      "metadata": {
        "id": "Nu5f5b2eO5ou"
      },
      "source": [
        "%%R\n",
        "#removing the grossmargin percantage as it has std of 0.\n",
        "sales1_numt[ ,c('gross.margin.percentage')] <- list(NULL)"
      ],
      "execution_count": 59,
      "outputs": []
    },
    {
      "cell_type": "code",
      "metadata": {
        "colab": {
          "base_uri": "https://localhost:8080/"
        },
        "id": "QCW1IvejO9dp",
        "outputId": "c1762aba-94f9-4deb-9153-391464dc5c36"
      },
      "source": [
        "%%R\n",
        "\n",
        "#Printing out correlations in our dataset\n",
        "cols <-cor(sales1_numt)\n",
        "cols"
      ],
      "execution_count": 60,
      "outputs": [
        {
          "output_type": "stream",
          "name": "stdout",
          "text": [
            "               unit.price    quantity       cogs gross.income       rating\n",
            "unit.price    1.000000000  0.01077756  0.6339621    0.6339621 -0.008777507\n",
            "quantity      0.010777564  1.00000000  0.7055102    0.7055102 -0.015814905\n",
            "cogs          0.633962089  0.70551019  1.0000000    1.0000000 -0.036441705\n",
            "gross.income  0.633962089  0.70551019  1.0000000    1.0000000 -0.036441705\n",
            "rating       -0.008777507 -0.01581490 -0.0364417   -0.0364417  1.000000000\n",
            "total         0.633962089  0.70551019  1.0000000    1.0000000 -0.036441705\n",
            "                  total\n",
            "unit.price    0.6339621\n",
            "quantity      0.7055102\n",
            "cogs          1.0000000\n",
            "gross.income  1.0000000\n",
            "rating       -0.0364417\n",
            "total         1.0000000\n"
          ]
        }
      ]
    },
    {
      "cell_type": "code",
      "metadata": {
        "colab": {
          "base_uri": "https://localhost:8080/",
          "height": 532
        },
        "id": "80zELaKlPEvI",
        "outputId": "63c9de03-7bfb-4f8b-d8b4-7ed4a81c5cec"
      },
      "source": [
        "%%R\n",
        "library('corrplot')\n",
        "corrplot(cor(cols), method=\"shade\", tl.col=\"black\", tl.srt=45)"
      ],
      "execution_count": 75,
      "outputs": [
        {
          "output_type": "stream",
          "name": "stderr",
          "text": [
            "R[write to console]: corrplot 0.90 loaded\n",
            "\n"
          ]
        },
        {
          "output_type": "display_data",
          "data": {
            "image/png": "[encoded data removed]"
          },
          "metadata": {}
        }
      ]
    },
    {
      "cell_type": "markdown",
      "metadata": {
        "id": "34Imre-sPKl1"
      },
      "source": [
        "There is an evident of positive correlation between the following columns:\n",
        "\n",
        "cogs\n",
        "gross income\n",
        "total\n",
        "unit price\n",
        "\n",
        "The following columns are negatively linear:\n",
        "\n",
        "rating\n",
        "quantity"
      ]
    },
    {
      "cell_type": "markdown",
      "metadata": {
        "id": "VKiolRC_PTfj"
      },
      "source": [
        "# 6. Implement the Solution"
      ]
    },
    {
      "cell_type": "markdown",
      "metadata": {
        "id": "at_sl5hVPVIJ"
      },
      "source": [
        "## Part 1: Dimensionality Reduction\n",
        "### PCA"
      ]
    },
    {
      "cell_type": "code",
      "metadata": {
        "colab": {
          "base_uri": "https://localhost:8080/"
        },
        "id": "L9kLfoOqPXp9",
        "outputId": "de595a4f-e9b1-4663-c82a-c5f6c68d6d08"
      },
      "source": [
        "%%R\n",
        "\n",
        "#We had already ran the numericals and dropped redundant columns \n",
        "#we named it sales1_numt\n",
        "\n",
        "pca <- prcomp(sales1_numt[,c(1:6)], center = TRUE, scale = TRUE)\n",
        "summary(pca)"
      ],
      "execution_count": 63,
      "outputs": [
        {
          "output_type": "stream",
          "name": "stdout",
          "text": [
            "Importance of components:\n",
            "                          PC1    PC2    PC3    PC4      PC5       PC6\n",
            "Standard deviation     1.9817 1.0002 0.9939 0.2909 1.57e-16 1.327e-16\n",
            "Proportion of Variance 0.6545 0.1667 0.1646 0.0141 0.00e+00 0.000e+00\n",
            "Cumulative Proportion  0.6545 0.8213 0.9859 1.0000 1.00e+00 1.000e+00\n"
          ]
        }
      ]
    },
    {
      "cell_type": "markdown",
      "metadata": {
        "id": "zqs1q9GiPgN_"
      },
      "source": [
        "Proportion of Variance: This is the amount of variance the component accounts for in the data, ie PC1 accounts for 65.5% of total variance in the data alone!\n",
        "\n",
        "Cumulative Proportion: This is simply the accumulated amount of explained variance, ie. if we used the first 3 components we would be able to account for 98% of total variance in the data\n"
      ]
    },
    {
      "cell_type": "code",
      "metadata": {
        "colab": {
          "base_uri": "https://localhost:8080/"
        },
        "id": "59UQrvtsPkIa",
        "outputId": "3b68dc3f-8d38-4b26-aa49-e21ef20777e2"
      },
      "source": [
        "%%R\n",
        "\n",
        "#used the string function to know which variables were to be consindered\n",
        "str(pca)"
      ],
      "execution_count": 64,
      "outputs": [
        {
          "output_type": "stream",
          "name": "stdout",
          "text": [
            "List of 5\n",
            " $ sdev    : num [1:6] 1.98 1.00 9.94e-01 2.91e-01 1.57e-16 ...\n",
            " $ rotation: num [1:6, 1:6] -0.3281 -0.3649 -0.5029 -0.5029 0.0217 ...\n",
            "  ..- attr(*, \"dimnames\")=List of 2\n",
            "  .. ..$ : chr [1:6] \"unit.price\" \"quantity\" \"cogs\" \"gross.income\" ...\n",
            "  .. ..$ : chr [1:6] \"PC1\" \"PC2\" \"PC3\" \"PC4\" ...\n",
            " $ center  : Named num [1:6] 55.67 5.51 307.59 15.38 6.97 ...\n",
            "  ..- attr(*, \"names\")= chr [1:6] \"unit.price\" \"quantity\" \"cogs\" \"gross.income\" ...\n",
            " $ scale   : Named num [1:6] 26.49 2.92 234.18 11.71 1.72 ...\n",
            "  ..- attr(*, \"names\")= chr [1:6] \"unit.price\" \"quantity\" \"cogs\" \"gross.income\" ...\n",
            " $ x       : num [1:1000, 1:6] -1.781 2.087 -0.173 -1.343 -2.497 ...\n",
            "  ..- attr(*, \"dimnames\")=List of 2\n",
            "  .. ..$ : NULL\n",
            "  .. ..$ : chr [1:6] \"PC1\" \"PC2\" \"PC3\" \"PC4\" ...\n",
            " - attr(*, \"class\")= chr \"prcomp\"\n"
          ]
        }
      ]
    },
    {
      "cell_type": "markdown",
      "metadata": {
        "id": "UtvOjMRCPsHd"
      },
      "source": [
        "Here we note the center point ($center), scaling ($scale),standard deviation(sdev) of each principal component.\n",
        "\n",
        "The relationship (correlation or anticorrelation, etc) between the initial variables and the principal components ($rotation). \n",
        "\n",
        "The values of each sample in terms of the principal components ($x)"
      ]
    },
    {
      "cell_type": "code",
      "metadata": {
        "id": "-oGvoMS0P2Kf"
      },
      "source": [
        "%%R\n",
        "\n",
        "# We will now plot our pca. This will provide us with some very useful insights\n",
        "\n",
        "# Installing our ggbiplot visualisation package\n",
        "# \n",
        "library('devtools')\n",
        "#install_github(\"vqv/ggbiplot\")"
      ],
      "execution_count": 85,
      "outputs": []
    },
    {
      "cell_type": "code",
      "metadata": {
        "colab": {
          "base_uri": "https://localhost:8080/"
        },
        "id": "pXqh2ofMQHEd",
        "outputId": "6705b84f-a37e-46d5-d376-c9a7520973d9"
      },
      "source": [
        "%%R\n",
        "\n",
        "# Then Loading our ggbiplot library\n",
        "#  \n",
        "\n",
        "install_github(\"vqv/ggbiplot\")\n"
      ],
      "execution_count": 86,
      "outputs": [
        {
          "output_type": "stream",
          "name": "stderr",
          "text": [
            "R[write to console]: Skipping install of 'ggbiplot' from a github remote, the SHA1 (7325e880) has not changed since last install.\n",
            "  Use `force = TRUE` to force installation\n",
            "\n"
          ]
        }
      ]
    },
    {
      "cell_type": "code",
      "metadata": {
        "colab": {
          "base_uri": "https://localhost:8080/",
          "height": 497
        },
        "id": "S4FuA1XWkDbP",
        "outputId": "adaf0495-2985-49c6-8f8b-a4ddec77dafd"
      },
      "source": [
        "%%R\n",
        "\n",
        "#install.packages(\"ggplot2\")\n",
        "library('ggbiplot')\n",
        "ggbiplot(pca)"
      ],
      "execution_count": 96,
      "outputs": [
        {
          "output_type": "display_data",
          "data": {
            "image/png": "[encoded data removed]"
          },
          "metadata": {}
        }
      ]
    },
    {
      "cell_type": "markdown",
      "metadata": {
        "id": "MTbekBsjQNZe"
      },
      "source": [
        "we notice that unit price, quantity, rating and grossincome were the four variables to be highly consindered during modelling."
      ]
    },
    {
      "cell_type": "code",
      "metadata": {
        "colab": {
          "base_uri": "https://localhost:8080/"
        },
        "id": "Dzm9ntJUQOxs",
        "outputId": "1fd42c36-2644-478e-ab9e-de1979dcb145"
      },
      "source": [
        "%%R\n",
        "#adding more details\n",
        "#plotting the PCA to see the above visually\n",
        "#we will use ggbiplot library\n",
        "#install.packages('ggbiplot')\n",
        "library('ggbiplot')"
      ],
      "execution_count": 94,
      "outputs": [
        {
          "output_type": "stream",
          "name": "stderr",
          "text": [
            "R[write to console]: Loading required package: plyr\n",
            "\n",
            "R[write to console]: ------------------------------------------------------------------------------\n",
            "\n",
            "R[write to console]: You have loaded plyr after dplyr - this is likely to cause problems.\n",
            "If you need functions from both plyr and dplyr, please load plyr first, then dplyr:\n",
            "library(plyr); library(dplyr)\n",
            "\n",
            "R[write to console]: ------------------------------------------------------------------------------\n",
            "\n",
            "R[write to console]: \n",
            "Attaching package: ‘plyr’\n",
            "\n",
            "\n",
            "R[write to console]: The following object is masked from ‘package:purrr’:\n",
            "\n",
            "    compact\n",
            "\n",
            "\n",
            "R[write to console]: The following objects are masked from ‘package:dplyr’:\n",
            "\n",
            "    arrange, count, desc, failwith, id, mutate, rename, summarise,\n",
            "    summarize\n",
            "\n",
            "\n",
            "R[write to console]: Loading required package: scales\n",
            "\n",
            "R[write to console]: \n",
            "Attaching package: ‘scales’\n",
            "\n",
            "\n",
            "R[write to console]: The following object is masked from ‘package:purrr’:\n",
            "\n",
            "    discard\n",
            "\n",
            "\n",
            "R[write to console]: The following object is masked from ‘package:readr’:\n",
            "\n",
            "    col_factor\n",
            "\n",
            "\n",
            "R[write to console]: Loading required package: grid\n",
            "\n"
          ]
        }
      ]
    },
    {
      "cell_type": "code",
      "metadata": {
        "colab": {
          "base_uri": "https://localhost:8080/",
          "height": 497
        },
        "id": "C1Xpgk6khOKR",
        "outputId": "9e1c83f5-a9f3-4b81-ce9e-48fb611a89d0"
      },
      "source": [
        "%%R\n",
        "\n",
        "ggbiplot(pca, obs.scale = 0.5, var.scale = 0.5, groups = sales1_date$customer.type,ellipse = TRUE, circle = TRUE)\n"
      ],
      "execution_count": 95,
      "outputs": [
        {
          "output_type": "display_data",
          "data": {
            "image/png": "[encoded data removed]"
          },
          "metadata": {}
        }
      ]
    },
    {
      "cell_type": "markdown",
      "metadata": {
        "id": "7jaYpupJhWFZ"
      },
      "source": [
        "we see that whether the customer is loyal or new customer the four variables will explain 65.5% plus 16.7% making it 81.2 variance which is fairly high."
      ]
    },
    {
      "cell_type": "code",
      "metadata": {
        "id": "AjE7WmHshWwX"
      },
      "source": [
        ""
      ],
      "execution_count": null,
      "outputs": []
    },
    {
      "cell_type": "markdown",
      "metadata": {
        "id": "DEKWSKj4hgEC"
      },
      "source": [
        "## Part 2: Feature Selection\n",
        "\n",
        "### Wrapper Method"
      ]
    },
    {
      "cell_type": "code",
      "metadata": {
        "colab": {
          "base_uri": "https://localhost:8080/"
        },
        "id": "5nzFElMDhioD",
        "outputId": "50a07baf-2e0a-4e41-fc83-562a9179fcdf"
      },
      "source": [
        "%%R\n",
        "\n",
        "# Installing and loading our clustvarsel package\n",
        "                         \n",
        "install.packages('clustvarsel')\n",
        "\n",
        "# Installing and loading our mclust package\n",
        "library('mclust')"
      ],
      "execution_count": 89,
      "outputs": [
        {
          "output_type": "stream",
          "name": "stderr",
          "text": [
            "R[write to console]: Installing package into ‘/usr/local/lib/R/site-library’\n",
            "(as ‘lib’ is unspecified)\n",
            "\n",
            "R[write to console]: also installing the dependencies ‘DEoptimR’, ‘mvtnorm’, ‘pcaPP’, ‘leaps’, ‘robustbase’, ‘inline’, ‘rrcov’, ‘mclust’, ‘BMA’, ‘foreach’, ‘iterators’\n",
            "\n",
            "\n",
            "R[write to console]: trying URL 'https://cran.rstudio.com/src/contrib/DEoptimR_1.0-9.tar.gz'\n",
            "\n",
            "R[write to console]: Content type 'application/x-gzip'\n",
            "R[write to console]:  length 36148 bytes (35 KB)\n",
            "\n",
            "R[write to console]: =\n",
            "R[write to console]: =\n",
            "R[write to console]: =\n",
            "R[write to console]: =\n",
            "R[write to console]: =\n",
            "R[write to console]: =\n",
            "R[write to console]: =\n",
            "R[write to console]: =\n",
            "R[write to console]: =\n",
            "R[write to console]: =\n",
            "R[write to console]: =\n",
            "R[write to console]: =\n",
            "R[write to console]: =\n",
            "R[write to console]: =\n",
            "R[write to console]: =\n",
            "R[write to console]: =\n",
            "R[write to console]: =\n",
            "R[write to console]: =\n",
            "R[write to console]: =\n",
            "R[write to console]: =\n",
            "R[write to console]: =\n",
            "R[write to console]: =\n",
            "R[write to console]: =\n",
            "R[write to console]: =\n",
            "R[write to console]: =\n",
            "R[write to console]: =\n",
            "R[write to console]: =\n",
            "R[write to console]: =\n",
            "R[write to console]: =\n",
            "R[write to console]: =\n",
            "R[write to console]: =\n",
            "R[write to console]: =\n",
            "R[write to console]: =\n",
            "R[write to console]: =\n",
            "R[write to console]: =\n",
            "R[write to console]: =\n",
            "R[write to console]: =\n",
            "R[write to console]: =\n",
            "R[write to console]: =\n",
            "R[write to console]: =\n",
            "R[write to console]: =\n",
            "R[write to console]: =\n",
            "R[write to console]: =\n",
            "R[write to console]: =\n",
            "R[write to console]: =\n",
            "R[write to console]: =\n",
            "R[write to console]: =\n",
            "R[write to console]: =\n",
            "R[write to console]: =\n",
            "R[write to console]: =\n",
            "R[write to console]: \n",
            "\n",
            "R[write to console]: downloaded 35 KB\n",
            "\n",
            "\n",
            "R[write to console]: trying URL 'https://cran.rstudio.com/src/contrib/mvtnorm_1.1-2.tar.gz'\n",
            "\n",
            "R[write to console]: Content type 'application/x-gzip'\n",
            "R[write to console]:  length 166202 bytes (162 KB)\n",
            "\n",
            "R[write to console]: =\n",
            "R[write to console]: =\n",
            "R[write to console]: =\n",
            "R[write to console]: =\n",
            "R[write to console]: =\n",
            "R[write to console]: =\n",
            "R[write to console]: =\n",
            "R[write to console]: =\n",
            "R[write to console]: =\n",
            "R[write to console]: =\n",
            "R[write to console]: =\n",
            "R[write to console]: =\n",
            "R[write to console]: =\n",
            "R[write to console]: =\n",
            "R[write to console]: =\n",
            "R[write to console]: =\n",
            "R[write to console]: =\n",
            "R[write to console]: =\n",
            "R[write to console]: =\n",
            "R[write to console]: =\n",
            "R[write to console]: =\n",
            "R[write to console]: =\n",
            "R[write to console]: =\n",
            "R[write to console]: =\n",
            "R[write to console]: =\n",
            "R[write to console]: =\n",
            "R[write to console]: =\n",
            "R[write to console]: =\n",
            "R[write to console]: =\n",
            "R[write to console]: =\n",
            "R[write to console]: =\n",
            "R[write to console]: =\n",
            "R[write to console]: =\n",
            "R[write to console]: =\n",
            "R[write to console]: =\n",
            "R[write to console]: =\n",
            "R[write to console]: =\n",
            "R[write to console]: =\n",
            "R[write to console]: =\n",
            "R[write to console]: =\n",
            "R[write to console]: =\n",
            "R[write to console]: =\n",
            "R[write to console]: =\n",
            "R[write to console]: =\n",
            "R[write to console]: =\n",
            "R[write to console]: =\n",
            "R[write to console]: =\n",
            "R[write to console]: =\n",
            "R[write to console]: =\n",
            "R[write to console]: =\n",
            "R[write to console]: \n",
            "\n",
            "R[write to console]: downloaded 162 KB\n",
            "\n",
            "\n",
            "R[write to console]: trying URL 'https://cran.rstudio.com/src/contrib/pcaPP_1.9-74.tar.gz'\n",
            "\n",
            "R[write to console]: Content type 'application/x-gzip'\n",
            "R[write to console]:  length 198203 bytes (193 KB)\n",
            "\n",
            "R[write to console]: =\n",
            "R[write to console]: =\n",
            "R[write to console]: =\n",
            "R[write to console]: =\n",
            "R[write to console]: =\n",
            "R[write to console]: =\n",
            "R[write to console]: =\n",
            "R[write to console]: =\n",
            "R[write to console]: =\n",
            "R[write to console]: =\n",
            "R[write to console]: =\n",
            "R[write to console]: =\n",
            "R[write to console]: =\n",
            "R[write to console]: =\n",
            "R[write to console]: =\n",
            "R[write to console]: =\n",
            "R[write to console]: =\n",
            "R[write to console]: =\n",
            "R[write to console]: =\n",
            "R[write to console]: =\n",
            "R[write to console]: =\n",
            "R[write to console]: =\n",
            "R[write to console]: =\n",
            "R[write to console]: =\n",
            "R[write to console]: =\n",
            "R[write to console]: =\n",
            "R[write to console]: =\n",
            "R[write to console]: =\n",
            "R[write to console]: =\n",
            "R[write to console]: =\n",
            "R[write to console]: =\n",
            "R[write to console]: =\n",
            "R[write to console]: =\n",
            "R[write to console]: =\n",
            "R[write to console]: =\n",
            "R[write to console]: =\n",
            "R[write to console]: =\n",
            "R[write to console]: =\n",
            "R[write to console]: =\n",
            "R[write to console]: =\n",
            "R[write to console]: =\n",
            "R[write to console]: =\n",
            "R[write to console]: =\n",
            "R[write to console]: =\n",
            "R[write to console]: =\n",
            "R[write to console]: =\n",
            "R[write to console]: =\n",
            "R[write to console]: =\n",
            "R[write to console]: =\n",
            "R[write to console]: =\n",
            "R[write to console]: \n",
            "\n",
            "R[write to console]: downloaded 193 KB\n",
            "\n",
            "\n",
            "R[write to console]: trying URL 'https://cran.rstudio.com/src/contrib/leaps_3.1.tar.gz'\n",
            "\n",
            "R[write to console]: Content type 'application/x-gzip'\n",
            "R[write to console]:  length 28558 bytes (27 KB)\n",
            "\n",
            "R[write to console]: =\n",
            "R[write to console]: =\n",
            "R[write to console]: =\n",
            "R[write to console]: =\n",
            "R[write to console]: =\n",
            "R[write to console]: =\n",
            "R[write to console]: =\n",
            "R[write to console]: =\n",
            "R[write to console]: =\n",
            "R[write to console]: =\n",
            "R[write to console]: =\n",
            "R[write to console]: =\n",
            "R[write to console]: =\n",
            "R[write to console]: =\n",
            "R[write to console]: =\n",
            "R[write to console]: =\n",
            "R[write to console]: =\n",
            "R[write to console]: =\n",
            "R[write to console]: =\n",
            "R[write to console]: =\n",
            "R[write to console]: =\n",
            "R[write to console]: =\n",
            "R[write to console]: =\n",
            "R[write to console]: =\n",
            "R[write to console]: =\n",
            "R[write to console]: =\n",
            "R[write to console]: =\n",
            "R[write to console]: =\n",
            "R[write to console]: =\n",
            "R[write to console]: =\n",
            "R[write to console]: =\n",
            "R[write to console]: =\n",
            "R[write to console]: =\n",
            "R[write to console]: =\n",
            "R[write to console]: =\n",
            "R[write to console]: =\n",
            "R[write to console]: =\n",
            "R[write to console]: =\n",
            "R[write to console]: =\n",
            "R[write to console]: =\n",
            "R[write to console]: =\n",
            "R[write to console]: =\n",
            "R[write to console]: =\n",
            "R[write to console]: =\n",
            "R[write to console]: =\n",
            "R[write to console]: =\n",
            "R[write to console]: =\n",
            "R[write to console]: =\n",
            "R[write to console]: =\n",
            "R[write to console]: =\n",
            "R[write to console]: \n",
            "\n",
            "R[write to console]: downloaded 27 KB\n",
            "\n",
            "\n",
            "R[write to console]: trying URL 'https://cran.rstudio.com/src/contrib/robustbase_0.93-8.tar.gz'\n",
            "\n",
            "R[write to console]: Content type 'application/x-gzip'\n",
            "R[write to console]:  length 2334489 bytes (2.2 MB)\n",
            "\n",
            "R[write to console]: =\n",
            "R[write to console]: =\n",
            "R[write to console]: =\n",
            "R[write to console]: =\n",
            "R[write to console]: =\n",
            "R[write to console]: =\n",
            "R[write to console]: =\n",
            "R[write to console]: =\n",
            "R[write to console]: =\n",
            "R[write to console]: =\n",
            "R[write to console]: =\n",
            "R[write to console]: =\n",
            "R[write to console]: =\n",
            "R[write to console]: =\n",
            "R[write to console]: =\n",
            "R[write to console]: =\n",
            "R[write to console]: =\n",
            "R[write to console]: =\n",
            "R[write to console]: =\n",
            "R[write to console]: =\n",
            "R[write to console]: =\n",
            "R[write to console]: =\n",
            "R[write to console]: =\n",
            "R[write to console]: =\n",
            "R[write to console]: =\n",
            "R[write to console]: =\n",
            "R[write to console]: =\n",
            "R[write to console]: =\n",
            "R[write to console]: =\n",
            "R[write to console]: =\n",
            "R[write to console]: =\n",
            "R[write to console]: =\n",
            "R[write to console]: =\n",
            "R[write to console]: =\n",
            "R[write to console]: =\n",
            "R[write to console]: =\n",
            "R[write to console]: =\n",
            "R[write to console]: =\n",
            "R[write to console]: =\n",
            "R[write to console]: =\n",
            "R[write to console]: =\n",
            "R[write to console]: =\n",
            "R[write to console]: =\n",
            "R[write to console]: =\n",
            "R[write to console]: =\n",
            "R[write to console]: =\n",
            "R[write to console]: =\n",
            "R[write to console]: =\n",
            "R[write to console]: =\n",
            "R[write to console]: =\n",
            "R[write to console]: \n",
            "\n",
            "R[write to console]: downloaded 2.2 MB\n",
            "\n",
            "\n",
            "R[write to console]: trying URL 'https://cran.rstudio.com/src/contrib/inline_0.3.19.tar.gz'\n",
            "\n",
            "R[write to console]: Content type 'application/x-gzip'\n",
            "R[write to console]:  length 25074 bytes (24 KB)\n",
            "\n",
            "R[write to console]: =\n",
            "R[write to console]: =\n",
            "R[write to console]: =\n",
            "R[write to console]: =\n",
            "R[write to console]: =\n",
            "R[write to console]: =\n",
            "R[write to console]: =\n",
            "R[write to console]: =\n",
            "R[write to console]: =\n",
            "R[write to console]: =\n",
            "R[write to console]: =\n",
            "R[write to console]: =\n",
            "R[write to console]: =\n",
            "R[write to console]: =\n",
            "R[write to console]: =\n",
            "R[write to console]: =\n",
            "R[write to console]: =\n",
            "R[write to console]: =\n",
            "R[write to console]: =\n",
            "R[write to console]: =\n",
            "R[write to console]: =\n",
            "R[write to console]: =\n",
            "R[write to console]: =\n",
            "R[write to console]: =\n",
            "R[write to console]: =\n",
            "R[write to console]: =\n",
            "R[write to console]: =\n",
            "R[write to console]: =\n",
            "R[write to console]: =\n",
            "R[write to console]: =\n",
            "R[write to console]: =\n",
            "R[write to console]: =\n",
            "R[write to console]: =\n",
            "R[write to console]: =\n",
            "R[write to console]: =\n",
            "R[write to console]: =\n",
            "R[write to console]: =\n",
            "R[write to console]: =\n",
            "R[write to console]: =\n",
            "R[write to console]: =\n",
            "R[write to console]: =\n",
            "R[write to console]: =\n",
            "R[write to console]: =\n",
            "R[write to console]: =\n",
            "R[write to console]: =\n",
            "R[write to console]: =\n",
            "R[write to console]: =\n",
            "R[write to console]: =\n",
            "R[write to console]: =\n",
            "R[write to console]: =\n",
            "R[write to console]: \n",
            "\n",
            "R[write to console]: downloaded 24 KB\n",
            "\n",
            "\n",
            "R[write to console]: trying URL 'https://cran.rstudio.com/src/contrib/rrcov_1.5-5.tar.gz'\n",
            "\n",
            "R[write to console]: Content type 'application/x-gzip'\n",
            "R[write to console]:  length 1147825 bytes (1.1 MB)\n",
            "\n",
            "R[write to console]: =\n",
            "R[write to console]: =\n",
            "R[write to console]: =\n",
            "R[write to console]: =\n",
            "R[write to console]: =\n",
            "R[write to console]: =\n",
            "R[write to console]: =\n",
            "R[write to console]: =\n",
            "R[write to console]: =\n",
            "R[write to console]: =\n",
            "R[write to console]: =\n",
            "R[write to console]: =\n",
            "R[write to console]: =\n",
            "R[write to console]: =\n",
            "R[write to console]: =\n",
            "R[write to console]: =\n",
            "R[write to console]: =\n",
            "R[write to console]: =\n",
            "R[write to console]: =\n",
            "R[write to console]: =\n",
            "R[write to console]: =\n",
            "R[write to console]: =\n",
            "R[write to console]: =\n",
            "R[write to console]: =\n",
            "R[write to console]: =\n",
            "R[write to console]: =\n",
            "R[write to console]: =\n",
            "R[write to console]: =\n",
            "R[write to console]: =\n",
            "R[write to console]: =\n",
            "R[write to console]: =\n",
            "R[write to console]: =\n",
            "R[write to console]: =\n",
            "R[write to console]: =\n",
            "R[write to console]: =\n",
            "R[write to console]: =\n",
            "R[write to console]: =\n",
            "R[write to console]: =\n",
            "R[write to console]: =\n",
            "R[write to console]: =\n",
            "R[write to console]: =\n",
            "R[write to console]: =\n",
            "R[write to console]: =\n",
            "R[write to console]: =\n",
            "R[write to console]: =\n",
            "R[write to console]: =\n",
            "R[write to console]: =\n",
            "R[write to console]: =\n",
            "R[write to console]: =\n",
            "R[write to console]: =\n",
            "R[write to console]: \n",
            "\n",
            "R[write to console]: downloaded 1.1 MB\n",
            "\n",
            "\n",
            "R[write to console]: trying URL 'https://cran.rstudio.com/src/contrib/mclust_5.4.7.tar.gz'\n",
            "\n",
            "R[write to console]: Content type 'application/x-gzip'\n",
            "R[write to console]:  length 2862001 bytes (2.7 MB)\n",
            "\n",
            "R[write to console]: =\n",
            "R[write to console]: =\n",
            "R[write to console]: =\n",
            "R[write to console]: =\n",
            "R[write to console]: =\n",
            "R[write to console]: =\n",
            "R[write to console]: =\n",
            "R[write to console]: =\n",
            "R[write to console]: =\n",
            "R[write to console]: =\n",
            "R[write to console]: =\n",
            "R[write to console]: =\n",
            "R[write to console]: =\n",
            "R[write to console]: =\n",
            "R[write to console]: =\n",
            "R[write to console]: =\n",
            "R[write to console]: =\n",
            "R[write to console]: =\n",
            "R[write to console]: =\n",
            "R[write to console]: =\n",
            "R[write to console]: =\n",
            "R[write to console]: =\n",
            "R[write to console]: =\n",
            "R[write to console]: =\n",
            "R[write to console]: =\n",
            "R[write to console]: =\n",
            "R[write to console]: =\n",
            "R[write to console]: =\n",
            "R[write to console]: =\n",
            "R[write to console]: =\n",
            "R[write to console]: =\n",
            "R[write to console]: =\n",
            "R[write to console]: =\n",
            "R[write to console]: =\n",
            "R[write to console]: =\n",
            "R[write to console]: =\n",
            "R[write to console]: =\n",
            "R[write to console]: =\n",
            "R[write to console]: =\n",
            "R[write to console]: =\n",
            "R[write to console]: =\n",
            "R[write to console]: =\n",
            "R[write to console]: =\n",
            "R[write to console]: =\n",
            "R[write to console]: =\n",
            "R[write to console]: =\n",
            "R[write to console]: =\n",
            "R[write to console]: =\n",
            "R[write to console]: =\n",
            "R[write to console]: =\n",
            "R[write to console]: \n",
            "\n",
            "R[write to console]: downloaded 2.7 MB\n",
            "\n",
            "\n",
            "R[write to console]: trying URL 'https://cran.rstudio.com/src/contrib/BMA_3.18.15.tar.gz'\n",
            "\n",
            "R[write to console]: Content type 'application/x-gzip'\n",
            "R[write to console]:  length 68441 bytes (66 KB)\n",
            "\n",
            "R[write to console]: =\n",
            "R[write to console]: =\n",
            "R[write to console]: =\n",
            "R[write to console]: =\n",
            "R[write to console]: =\n",
            "R[write to console]: =\n",
            "R[write to console]: =\n",
            "R[write to console]: =\n",
            "R[write to console]: =\n",
            "R[write to console]: =\n",
            "R[write to console]: =\n",
            "R[write to console]: =\n",
            "R[write to console]: =\n",
            "R[write to console]: =\n",
            "R[write to console]: =\n",
            "R[write to console]: =\n",
            "R[write to console]: =\n",
            "R[write to console]: =\n",
            "R[write to console]: =\n",
            "R[write to console]: =\n",
            "R[write to console]: =\n",
            "R[write to console]: =\n",
            "R[write to console]: =\n",
            "R[write to console]: =\n",
            "R[write to console]: =\n",
            "R[write to console]: =\n",
            "R[write to console]: =\n",
            "R[write to console]: =\n",
            "R[write to console]: =\n",
            "R[write to console]: =\n",
            "R[write to console]: =\n",
            "R[write to console]: =\n",
            "R[write to console]: =\n",
            "R[write to console]: =\n",
            "R[write to console]: =\n",
            "R[write to console]: =\n",
            "R[write to console]: =\n",
            "R[write to console]: =\n",
            "R[write to console]: =\n",
            "R[write to console]: =\n",
            "R[write to console]: =\n",
            "R[write to console]: =\n",
            "R[write to console]: =\n",
            "R[write to console]: =\n",
            "R[write to console]: =\n",
            "R[write to console]: =\n",
            "R[write to console]: =\n",
            "R[write to console]: =\n",
            "R[write to console]: =\n",
            "R[write to console]: =\n",
            "R[write to console]: \n",
            "\n",
            "R[write to console]: downloaded 66 KB\n",
            "\n",
            "\n",
            "R[write to console]: trying URL 'https://cran.rstudio.com/src/contrib/foreach_1.5.1.tar.gz'\n",
            "\n",
            "R[write to console]: Content type 'application/x-gzip'\n",
            "R[write to console]:  length 87352 bytes (85 KB)\n",
            "\n",
            "R[write to console]: =\n",
            "R[write to console]: =\n",
            "R[write to console]: =\n",
            "R[write to console]: =\n",
            "R[write to console]: =\n",
            "R[write to console]: =\n",
            "R[write to console]: =\n",
            "R[write to console]: =\n",
            "R[write to console]: =\n",
            "R[write to console]: =\n",
            "R[write to console]: =\n",
            "R[write to console]: =\n",
            "R[write to console]: =\n",
            "R[write to console]: =\n",
            "R[write to console]: =\n",
            "R[write to console]: =\n",
            "R[write to console]: =\n",
            "R[write to console]: =\n",
            "R[write to console]: =\n",
            "R[write to console]: =\n",
            "R[write to console]: =\n",
            "R[write to console]: =\n",
            "R[write to console]: =\n",
            "R[write to console]: =\n",
            "R[write to console]: =\n",
            "R[write to console]: =\n",
            "R[write to console]: =\n",
            "R[write to console]: =\n",
            "R[write to console]: =\n",
            "R[write to console]: =\n",
            "R[write to console]: =\n",
            "R[write to console]: =\n",
            "R[write to console]: =\n",
            "R[write to console]: =\n",
            "R[write to console]: =\n",
            "R[write to console]: =\n",
            "R[write to console]: =\n",
            "R[write to console]: =\n",
            "R[write to console]: =\n",
            "R[write to console]: =\n",
            "R[write to console]: =\n",
            "R[write to console]: =\n",
            "R[write to console]: =\n",
            "R[write to console]: =\n",
            "R[write to console]: =\n",
            "R[write to console]: =\n",
            "R[write to console]: =\n",
            "R[write to console]: =\n",
            "R[write to console]: =\n",
            "R[write to console]: =\n",
            "R[write to console]: \n",
            "\n",
            "R[write to console]: downloaded 85 KB\n",
            "\n",
            "\n",
            "R[write to console]: trying URL 'https://cran.rstudio.com/src/contrib/iterators_1.0.13.tar.gz'\n",
            "\n",
            "R[write to console]: Content type 'application/x-gzip'\n",
            "R[write to console]:  length 288559 bytes (281 KB)\n",
            "\n",
            "R[write to console]: =\n",
            "R[write to console]: =\n",
            "R[write to console]: =\n",
            "R[write to console]: =\n",
            "R[write to console]: =\n",
            "R[write to console]: =\n",
            "R[write to console]: =\n",
            "R[write to console]: =\n",
            "R[write to console]: =\n",
            "R[write to console]: =\n",
            "R[write to console]: =\n",
            "R[write to console]: =\n",
            "R[write to console]: =\n",
            "R[write to console]: =\n",
            "R[write to console]: =\n",
            "R[write to console]: =\n",
            "R[write to console]: =\n",
            "R[write to console]: =\n",
            "R[write to console]: =\n",
            "R[write to console]: =\n",
            "R[write to console]: =\n",
            "R[write to console]: =\n",
            "R[write to console]: =\n",
            "R[write to console]: =\n",
            "R[write to console]: =\n",
            "R[write to console]: =\n",
            "R[write to console]: =\n",
            "R[write to console]: =\n",
            "R[write to console]: =\n",
            "R[write to console]: =\n",
            "R[write to console]: =\n",
            "R[write to console]: =\n",
            "R[write to console]: =\n",
            "R[write to console]: =\n",
            "R[write to console]: =\n",
            "R[write to console]: =\n",
            "R[write to console]: =\n",
            "R[write to console]: =\n",
            "R[write to console]: =\n",
            "R[write to console]: =\n",
            "R[write to console]: =\n",
            "R[write to console]: =\n",
            "R[write to console]: =\n",
            "R[write to console]: =\n",
            "R[write to console]: =\n",
            "R[write to console]: =\n",
            "R[write to console]: =\n",
            "R[write to console]: =\n",
            "R[write to console]: =\n",
            "R[write to console]: =\n",
            "R[write to console]: \n",
            "\n",
            "R[write to console]: downloaded 281 KB\n",
            "\n",
            "\n",
            "R[write to console]: trying URL 'https://cran.rstudio.com/src/contrib/clustvarsel_2.3.4.tar.gz'\n",
            "\n",
            "R[write to console]: Content type 'application/x-gzip'\n",
            "R[write to console]:  length 451156 bytes (440 KB)\n",
            "\n",
            "R[write to console]: =\n",
            "R[write to console]: =\n",
            "R[write to console]: =\n",
            "R[write to console]: =\n",
            "R[write to console]: =\n",
            "R[write to console]: =\n",
            "R[write to console]: =\n",
            "R[write to console]: =\n",
            "R[write to console]: =\n",
            "R[write to console]: =\n",
            "R[write to console]: =\n",
            "R[write to console]: =\n",
            "R[write to console]: =\n",
            "R[write to console]: =\n",
            "R[write to console]: =\n",
            "R[write to console]: =\n",
            "R[write to console]: =\n",
            "R[write to console]: =\n",
            "R[write to console]: =\n",
            "R[write to console]: =\n",
            "R[write to console]: =\n",
            "R[write to console]: =\n",
            "R[write to console]: =\n",
            "R[write to console]: =\n",
            "R[write to console]: =\n",
            "R[write to console]: =\n",
            "R[write to console]: =\n",
            "R[write to console]: =\n",
            "R[write to console]: =\n",
            "R[write to console]: =\n",
            "R[write to console]: =\n",
            "R[write to console]: =\n",
            "R[write to console]: =\n",
            "R[write to console]: =\n",
            "R[write to console]: =\n",
            "R[write to console]: =\n",
            "R[write to console]: =\n",
            "R[write to console]: =\n",
            "R[write to console]: =\n",
            "R[write to console]: =\n",
            "R[write to console]: =\n",
            "R[write to console]: =\n",
            "R[write to console]: =\n",
            "R[write to console]: =\n",
            "R[write to console]: =\n",
            "R[write to console]: =\n",
            "R[write to console]: =\n",
            "R[write to console]: =\n",
            "R[write to console]: =\n",
            "R[write to console]: =\n",
            "R[write to console]: \n",
            "\n",
            "R[write to console]: downloaded 440 KB\n",
            "\n",
            "\n",
            "R[write to console]: \n",
            "\n",
            "R[write to console]: \n",
            "R[write to console]: The downloaded source packages are in\n",
            "\t‘/tmp/RtmptcOAL1/downloaded_packages’\n",
            "R[write to console]: \n",
            "R[write to console]: \n",
            "\n",
            "R[write to console]:     __  ___________    __  _____________\n",
            "   /  |/  / ____/ /   / / / / ___/_  __/\n",
            "  / /|_/ / /   / /   / / / /\\__ \\ / /   \n",
            " / /  / / /___/ /___/ /_/ /___/ // /    \n",
            "/_/  /_/\\____/_____/\\____//____//_/    version 5.4.7\n",
            "Type 'citation(\"mclust\")' for citing this R package in publications.\n",
            "\n",
            "R[write to console]: \n",
            "Attaching package: ‘mclust’\n",
            "\n",
            "\n",
            "R[write to console]: The following object is masked from ‘package:purrr’:\n",
            "\n",
            "    map\n",
            "\n",
            "\n"
          ]
        }
      ]
    },
    {
      "cell_type": "code",
      "metadata": {
        "colab": {
          "base_uri": "https://localhost:8080/"
        },
        "id": "-CPORWCDhuXT",
        "outputId": "ea73a89c-2bc9-49f8-e6b8-2e0abcb9b1da"
      },
      "source": [
        "%%R\n",
        "# Sequential forward greedy search (default)\n",
        "# ---\n",
        "#\n",
        "library('clustvarsel')\n",
        "\n",
        "out = clustvarsel(sales1_numt)\n",
        "out"
      ],
      "execution_count": 90,
      "outputs": [
        {
          "output_type": "stream",
          "name": "stderr",
          "text": [
            "R[write to console]: Package 'clustvarsel' version 2.3.4\n",
            "\n",
            "R[write to console]: Type 'citation(\"clustvarsel\")' for citing this R package in publications.\n",
            "\n"
          ]
        },
        {
          "output_type": "stream",
          "name": "stdout",
          "text": [
            "iter 1\n",
            "+ adding step\n",
            "       Var  BICdiff Step Decision\n",
            "1 quantity 687.4466  Add Accepted\n",
            "iter 2\n",
            "+ adding step\n",
            "   Var  BICdiff Step Decision\n",
            "2 cogs 1083.013  Add Accepted\n",
            "iter 3 \n",
            "+ adding step\n",
            "- removing step\n",
            "         Var  BICdiff   Step Decision\n",
            "3 unit.price 2812.373    Add Accepted\n",
            "4 unit.price 2812.373 Remove Rejected\n",
            "iter 4 \n",
            "+ adding step\n",
            "- removing step\n",
            "         Var   BICdiff   Step Decision\n",
            "5     rating -184.0917    Add Rejected\n",
            "6 unit.price 2812.3733 Remove Rejected\n",
            "final iter\n",
            "* fitting model on selected subset\n",
            "------------------------------------------------------ \n",
            "Variable selection for Gaussian model-based clustering\n",
            "Stepwise (forward/backward) greedy search\n",
            "------------------------------------------------------ \n",
            "\n",
            " Variable proposed Type of step   BICclust Model G   BICdiff Decision\n",
            "          quantity          Add  -4308.761     E 9  687.4466 Accepted\n",
            "              cogs          Add -16306.851   VEV 9 1083.0132 Accepted\n",
            "        unit.price          Add -21393.079   EVV 7 2812.3733 Accepted\n",
            "        unit.price       Remove -16306.851   VEV 9 2812.3733 Rejected\n",
            "            rating          Add -25510.859   EVV 7 -184.0917 Rejected\n",
            "        unit.price       Remove -16306.851   VEV 9 2812.3733 Rejected\n",
            "\n",
            "Selected subset: quantity, cogs, unit.price\n"
          ]
        }
      ]
    },
    {
      "cell_type": "markdown",
      "metadata": {
        "id": "5Tvr7bRph11q"
      },
      "source": [
        "we  see that the columns quantity,cogs and unitprice have been accepted and can be used for modelling.This is a more accurate way of feature selection."
      ]
    },
    {
      "cell_type": "code",
      "metadata": {
        "colab": {
          "base_uri": "https://localhost:8080/"
        },
        "id": "Uyyurd80h3oR",
        "outputId": "22e914bb-7a81-48b7-f9bc-51858dc6f90b"
      },
      "source": [
        "%%R\n",
        "# The selection algorithm would indicate that the subset \n",
        "# we use for the clustering model is composed of variables quantity, unit price, cogs\n",
        "# and that other variables should be rejected. \n",
        "# Having identified the variables that we use, we proceed to build the clustering model:\n",
        "# ---\n",
        "#\n",
        "\n",
        "Subset1 = sales1_numt[,out$subset]\n",
        "mod = Mclust(Subset1)\n",
        "summary(mod)"
      ],
      "execution_count": 91,
      "outputs": [
        {
          "output_type": "stream",
          "name": "stdout",
          "text": [
            "fitting ...\n",
            "  |======================================================================| 100%\n",
            "---------------------------------------------------- \n",
            "Gaussian finite mixture model fitted by EM algorithm \n",
            "---------------------------------------------------- \n",
            "\n",
            "Mclust EVV (ellipsoidal, equal volume) model with 7 components: \n",
            "\n",
            " log-likelihood    n df       BIC       ICL\n",
            "      -10478.95 1000 63 -21393.08 -21446.89\n",
            "\n",
            "Clustering table:\n",
            "  1   2   3   4   5   6   7 \n",
            "173 134 126 148 128 142 149 \n"
          ]
        }
      ]
    },
    {
      "cell_type": "markdown",
      "metadata": {
        "id": "xIY4M1r_h-7L"
      },
      "source": [
        "# 7. Recommendation"
      ]
    },
    {
      "cell_type": "markdown",
      "metadata": {
        "id": "_Vq2R1Zuh_xH"
      },
      "source": [
        "From Dimentionality reduction model:\n",
        "1.Quantity\n",
        "2.Unit price\n",
        "3.gross income\n",
        "4.rating\n",
        "\n",
        "feater selection model:\n",
        "1.Quantity \n",
        "2.Cogs\n",
        "3.Unit price\n",
        "\n",
        "The feature selection model gave us the best outcome for consideration of what impact the sales in carefour kenya.\n"
      ]
    }
  ]
}